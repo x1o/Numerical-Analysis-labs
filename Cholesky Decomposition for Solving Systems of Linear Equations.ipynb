{
 "cells": [
  {
   "cell_type": "markdown",
   "metadata": {},
   "source": [
    "06.09.16"
   ]
  },
  {
   "cell_type": "markdown",
   "metadata": {},
   "source": [
    "## Cholesky Decomposition"
   ]
  },
  {
   "cell_type": "markdown",
   "metadata": {},
   "source": [
    "Implement Cholesky-Crout algorithm to calculate the matrix decomposition in the form $$\\mathbf{A} = \\mathbf{L}\\mathbf{L}^\\mathrm{T},$$ where $\\mathbf{A}$ is a symmetric positive-definite matrix and $\\mathbf{L}$ is a lower-triangular matrix with real and positive diagonal entries.\n",
    "\n",
    "Computational complexity: $\\mathcal{O}(n^3)$. Twice as efficient compared to LU-decomposition: $2n^3/3$ vs $n^3/3$ flops)."
   ]
  },
  {
   "cell_type": "code",
   "execution_count": 23,
   "metadata": {
    "collapsed": false
   },
   "outputs": [
    {
     "data": {
      "text/html": [
       "<html><script type=\"math/tex; mode=display\">\\newcommand{\\Bold}[1]{\\mathbf{#1}}\\mathbf{A}= \\left(\\begin{array}{rrrr}\n",
       "1.25 & 0.34 & 0.01 & -1.27 \\\\\n",
       "0.34 & -1.68 & -2.04 & 0.25 \\\\\n",
       "0.01 & -2.04 & 0.94 & 2.45 \\\\\n",
       "-1.27 & 0.25 & 2.45 & 0.85\n",
       "\\end{array}\\right)</script></html>"
      ],
      "text/plain": [
       "\\mathbf{A}= \\left(\\begin{array}{rrrr}\n",
       "1.25 & 0.34 & 0.01 & -1.27 \\\\\n",
       "0.34 & -1.68 & -2.04 & 0.25 \\\\\n",
       "0.01 & -2.04 & 0.94 & 2.45 \\\\\n",
       "-1.27 & 0.25 & 2.45 & 0.85\n",
       "\\end{array}\\right)"
      ]
     },
     "metadata": {},
     "output_type": "display_data"
    },
    {
     "data": {
      "text/html": [
       "<html><script type=\"math/tex; mode=display\">\\newcommand{\\Bold}[1]{\\mathbf{#1}}\\mathbf{b}= \\left(4.241942,\\,-0.030203,\\,-7.411342,\\,-6.289385\\right)</script></html>"
      ],
      "text/plain": [
       "\\mathbf{b}= \\left(4.241942,\\,-0.030203,\\,-7.411342,\\,-6.289385\\right)"
      ]
     },
     "metadata": {},
     "output_type": "display_data"
    }
   ],
   "source": [
    "# A = matrix(RDF, [[4, 12, -16],\n",
    "#                 [12, 37, -43],\n",
    "#                 [-16, -43, 98]])\n",
    "A = matrix(RDF, [[1.25, 0.34, 0.01, -1.27],\n",
    "                 [0.34, -1.68, -2.04, 0.25],\n",
    "                 [0.01, -2.04, 0.94, 2.45],\n",
    "                 [-1.27, 0.25, 2.45, 0.85]])\n",
    "# b = vector(RDF, [2, 5, 1])\n",
    "b = vector(RDF, [4.241942, -0.030203, -7.411342, -6.289385])\n",
    "show('\\mathbf{A}=' + latex(A))\n",
    "show('\\mathbf{b}=' + latex(b))"
   ]
  },
  {
   "cell_type": "code",
   "execution_count": 24,
   "metadata": {
    "collapsed": false
   },
   "outputs": [],
   "source": [
    "def cholesky_decomposition(A):\n",
    "    L = zero_matrix(CC, A.nrows(), A.ncols())\n",
    "    for i in range(A.nrows()):\n",
    "        for j in range(i+1):\n",
    "            if i == j:\n",
    "                L[i, j] = sqrt(A[i, j] - sum(L[j,k]^2 for k in range(j)))\n",
    "            else:\n",
    "                L[i, j] = 1/L[j, j] * (A[i, j] - sum(L[i, k] * L[j, k] for k in range(j)))\n",
    "    return L, L.T"
   ]
  },
  {
   "cell_type": "code",
   "execution_count": 25,
   "metadata": {
    "collapsed": false
   },
   "outputs": [],
   "source": [
    "L, U = cholesky_decomposition(A)"
   ]
  },
  {
   "cell_type": "code",
   "execution_count": 26,
   "metadata": {
    "collapsed": false
   },
   "outputs": [
    {
     "data": {
      "text/html": [
       "<html><script type=\"math/tex; mode=display\">\\newcommand{\\Bold}[1]{\\mathbf{#1}}\\mathbf{L}= \\left(\\begin{array}{rrrr}\n",
       "1.11803398874989 & 0.000000000000000 & 0.000000000000000 & 0.000000000000000 \\\\\n",
       "0.304105244939971 & 1.33134518439058i & 0.000000000000000 & 0.000000000000000 \\\\\n",
       "0.00894427190999916 & 1.53432785422591i & 1.81496059578534 & 0.000000000000000 \\\\\n",
       "-1.13592253256989 & -0.447246895081203i & 0.977396773946638 & 1.09343251669297i\n",
       "\\end{array}\\right)</script></html>"
      ],
      "text/plain": [
       "\\mathbf{L}= \\left(\\begin{array}{rrrr}\n",
       "1.11803398874989 & 0.000000000000000 & 0.000000000000000 & 0.000000000000000 \\\\\n",
       "0.304105244939971 & 1.33134518439058i & 0.000000000000000 & 0.000000000000000 \\\\\n",
       "0.00894427190999916 & 1.53432785422591i & 1.81496059578534 & 0.000000000000000 \\\\\n",
       "-1.13592253256989 & -0.447246895081203i & 0.977396773946638 & 1.09343251669297i\n",
       "\\end{array}\\right)"
      ]
     },
     "metadata": {},
     "output_type": "display_data"
    },
    {
     "data": {
      "text/html": [
       "<html><script type=\"math/tex; mode=display\">\\newcommand{\\Bold}[1]{\\mathbf{#1}}\\mathbf{U}= \\left(\\begin{array}{rrrr}\n",
       "1.11803398874989 & 0.304105244939971 & 0.00894427190999916 & -1.13592253256989 \\\\\n",
       "0.000000000000000 & 1.33134518439058i & 1.53432785422591i & -0.447246895081203i \\\\\n",
       "0.000000000000000 & 0.000000000000000 & 1.81496059578534 & 0.977396773946638 \\\\\n",
       "0.000000000000000 & 0.000000000000000 & 0.000000000000000 & 1.09343251669297i\n",
       "\\end{array}\\right)</script></html>"
      ],
      "text/plain": [
       "\\mathbf{U}= \\left(\\begin{array}{rrrr}\n",
       "1.11803398874989 & 0.304105244939971 & 0.00894427190999916 & -1.13592253256989 \\\\\n",
       "0.000000000000000 & 1.33134518439058i & 1.53432785422591i & -0.447246895081203i \\\\\n",
       "0.000000000000000 & 0.000000000000000 & 1.81496059578534 & 0.977396773946638 \\\\\n",
       "0.000000000000000 & 0.000000000000000 & 0.000000000000000 & 1.09343251669297i\n",
       "\\end{array}\\right)"
      ]
     },
     "metadata": {},
     "output_type": "display_data"
    },
    {
     "data": {
      "text/html": [
       "<html><script type=\"math/tex; mode=display\">\\newcommand{\\Bold}[1]{\\mathbf{#1}}\\mathbf{L}\\mathbf{U}= \\left(\\begin{array}{rrrr}\n",
       "1.25000000000000 & 0.340000000000000 & 0.0100000000000000 & -1.27000000000000 \\\\\n",
       "0.340000000000000 & -1.68000000000000 & -2.04000000000000 & 0.250000000000000 \\\\\n",
       "0.0100000000000000 & -2.04000000000000 & 0.940000000000000 & 2.45000000000000 \\\\\n",
       "-1.27000000000000 & 0.250000000000000 & 2.45000000000000 & 0.850000000000000\n",
       "\\end{array}\\right)</script></html>"
      ],
      "text/plain": [
       "\\mathbf{L}\\mathbf{U}= \\left(\\begin{array}{rrrr}\n",
       "1.25000000000000 & 0.340000000000000 & 0.0100000000000000 & -1.27000000000000 \\\\\n",
       "0.340000000000000 & -1.68000000000000 & -2.04000000000000 & 0.250000000000000 \\\\\n",
       "0.0100000000000000 & -2.04000000000000 & 0.940000000000000 & 2.45000000000000 \\\\\n",
       "-1.27000000000000 & 0.250000000000000 & 2.45000000000000 & 0.850000000000000\n",
       "\\end{array}\\right)"
      ]
     },
     "metadata": {},
     "output_type": "display_data"
    },
    {
     "data": {
      "text/html": [
       "<html><script type=\"math/tex; mode=display\">\\newcommand{\\Bold}[1]{\\mathbf{#1}}\\mathbf{A}= \\left(\\begin{array}{rrrr}\n",
       "1.25 & 0.34 & 0.01 & -1.27 \\\\\n",
       "0.34 & -1.68 & -2.04 & 0.25 \\\\\n",
       "0.01 & -2.04 & 0.94 & 2.45 \\\\\n",
       "-1.27 & 0.25 & 2.45 & 0.85\n",
       "\\end{array}\\right)</script></html>"
      ],
      "text/plain": [
       "\\mathbf{A}= \\left(\\begin{array}{rrrr}\n",
       "1.25 & 0.34 & 0.01 & -1.27 \\\\\n",
       "0.34 & -1.68 & -2.04 & 0.25 \\\\\n",
       "0.01 & -2.04 & 0.94 & 2.45 \\\\\n",
       "-1.27 & 0.25 & 2.45 & 0.85\n",
       "\\end{array}\\right)"
      ]
     },
     "metadata": {},
     "output_type": "display_data"
    },
    {
     "data": {
      "text/html": [
       "<html><script type=\"math/tex; mode=display\">\\newcommand{\\Bold}[1]{\\mathbf{#1}}\\mathbf{A} - \\mathbf{LU}= \\left(\\begin{array}{rrrr}\n",
       "-2.22044604925031 \\times 10^{-16} & 5.55111512312578 \\times 10^{-17} & 0.000000000000000 & -2.22044604925031 \\times 10^{-16} \\\\\n",
       "5.55111512312578 \\times 10^{-17} & -2.22044604925031 \\times 10^{-16} & 0.000000000000000 & -5.55111512312578 \\times 10^{-17} \\\\\n",
       "0.000000000000000 & 0.000000000000000 & 0.000000000000000 & 0.000000000000000 \\\\\n",
       "-2.22044604925031 \\times 10^{-16} & -5.55111512312578 \\times 10^{-17} & 0.000000000000000 & 1.11022302462516 \\times 10^{-16}\n",
       "\\end{array}\\right)</script></html>"
      ],
      "text/plain": [
       "\\mathbf{A} - \\mathbf{LU}= \\left(\\begin{array}{rrrr}\n",
       "-2.22044604925031 \\times 10^{-16} & 5.55111512312578 \\times 10^{-17} & 0.000000000000000 & -2.22044604925031 \\times 10^{-16} \\\\\n",
       "5.55111512312578 \\times 10^{-17} & -2.22044604925031 \\times 10^{-16} & 0.000000000000000 & -5.55111512312578 \\times 10^{-17} \\\\\n",
       "0.000000000000000 & 0.000000000000000 & 0.000000000000000 & 0.000000000000000 \\\\\n",
       "-2.22044604925031 \\times 10^{-16} & -5.55111512312578 \\times 10^{-17} & 0.000000000000000 & 1.11022302462516 \\times 10^{-16}\n",
       "\\end{array}\\right)"
      ]
     },
     "metadata": {},
     "output_type": "display_data"
    }
   ],
   "source": [
    "show('\\mathbf{L}=' + latex(L))\n",
    "show('\\mathbf{U}=' + latex(U))\n",
    "show('\\mathbf{L}\\mathbf{U}=' + latex(L*U))\n",
    "show('\\mathbf{A}=' + latex(A))\n",
    "show('\\mathbf{A} - \\mathbf{LU}=' + latex(A - L*U))"
   ]
  },
  {
   "cell_type": "markdown",
   "metadata": {},
   "source": [
    "## SLEQ solution via Cholesky Decomposition"
   ]
  },
  {
   "cell_type": "markdown",
   "metadata": {},
   "source": [
    "Solve $$\\mathbf{b}=\\mathbf{A}\\mathbf{x}=\\mathbf{L}\\underbrace{\\mathbf{U}\\mathbf{x}}_{\\mathbf{y}}$$\n",
    "  for $\\mathbf{y}$\n",
    "  to find $\\mathbf{y}^{*}$\n",
    " ; then $\\mathbf{U}\\mathbf{x}=\\mathbf{y}^{*}$\n",
    "  to obtain the desired $\\mathbf{x}^{*}$."
   ]
  },
  {
   "cell_type": "code",
   "execution_count": 27,
   "metadata": {
    "collapsed": false
   },
   "outputs": [],
   "source": [
    "def substitution(A, b, kind='forward'):\n",
    "    N = A.nrows()\n",
    "    x_star = vector(CC, [0 for _ in range(N)])\n",
    "    if kind == 'backward':\n",
    "        for i in reversed(range(N)):\n",
    "            x_star[i] = (b[i] - sum(A[i, k] * x_star[k] for k in range(i+1, N))) / A[i, i]\n",
    "    elif kind == 'forward':\n",
    "        for i in range(N):\n",
    "            x_star[i] = (b[i] - sum(A[i, k] * x_star[k] for k in range(i))) / A[i, i]\n",
    "    else:\n",
    "        raise ValueError(\"Unknown substitution type: %s\" % kind)\n",
    "    return x_star"
   ]
  },
  {
   "cell_type": "code",
   "execution_count": 28,
   "metadata": {
    "collapsed": false
   },
   "outputs": [
    {
     "data": {
      "text/html": [
       "<html><script type=\"math/tex; mode=display\">\\newcommand{\\Bold}[1]{\\mathbf{#1}}\\mathbf{y^*}= \\left(3.79410826744456,\\,0.889334515106970i,\\,-3.35034646585025,\\,-0.820621103778071i\\right)</script></html>"
      ],
      "text/plain": [
       "\\mathbf{y^*}= \\left(3.79410826744456,\\,0.889334515106970i,\\,-3.35034646585025,\\,-0.820621103778071i\\right)"
      ]
     },
     "metadata": {},
     "output_type": "display_data"
    }
   ],
   "source": [
    "y_star = substitution(L, b, kind='forward')\n",
    "show('\\mathbf{y^*}=' + latex(y_star))"
   ]
  },
  {
   "cell_type": "code",
   "execution_count": 29,
   "metadata": {
    "collapsed": false
   },
   "outputs": [
    {
     "data": {
      "text/html": [
       "<html><script type=\"math/tex; mode=display\">\\newcommand{\\Bold}[1]{\\mathbf{#1}}\\mathbf{x^*}= \\left(2.07750000000000,\\,2.07750000000000,\\,-1.44180000000000,\\,-0.750499999999998\\right)</script></html>"
      ],
      "text/plain": [
       "\\mathbf{x^*}= \\left(2.07750000000000,\\,2.07750000000000,\\,-1.44180000000000,\\,-0.750499999999998\\right)"
      ]
     },
     "metadata": {},
     "output_type": "display_data"
    }
   ],
   "source": [
    "x_star = substitution(U, y_star, kind='backward')\n",
    "show('\\mathbf{x^*}=' + latex(x_star))"
   ]
  },
  {
   "cell_type": "markdown",
   "metadata": {},
   "source": [
    "### Check the answer"
   ]
  },
  {
   "cell_type": "code",
   "execution_count": 30,
   "metadata": {
    "collapsed": false
   },
   "outputs": [
    {
     "data": {
      "text/html": [
       "<html><script type=\"math/tex; mode=display\">\\newcommand{\\Bold}[1]{\\mathbf{#1}}\\mathbf{A}\\mathbf{x}^*= \\left(4.24194200000000,\\,-0.0302030000000014,\\,-7.41134200000000,\\,-6.28938500000000\\right)</script></html>"
      ],
      "text/plain": [
       "\\mathbf{A}\\mathbf{x}^*= \\left(4.24194200000000,\\,-0.0302030000000014,\\,-7.41134200000000,\\,-6.28938500000000\\right)"
      ]
     },
     "metadata": {},
     "output_type": "display_data"
    },
    {
     "data": {
      "text/html": [
       "<html><script type=\"math/tex; mode=display\">\\newcommand{\\Bold}[1]{\\mathbf{#1}}\\mathbf{b}= \\left(4.241942,\\,-0.030203,\\,-7.411342,\\,-6.289385\\right)</script></html>"
      ],
      "text/plain": [
       "\\mathbf{b}= \\left(4.241942,\\,-0.030203,\\,-7.411342,\\,-6.289385\\right)"
      ]
     },
     "metadata": {},
     "output_type": "display_data"
    },
    {
     "data": {
      "text/html": [
       "<html><script type=\"math/tex; mode=display\">\\newcommand{\\Bold}[1]{\\mathbf{#1}}\\mathbf{A}\\mathbf{x}^* - \\mathbf{b}= \\left(-8.88178419700125 \\times 10^{-16},\\,-1.39471767468535 \\times 10^{-15},\\,0.000000000000000,\\,0.000000000000000\\right)</script></html>"
      ],
      "text/plain": [
       "\\mathbf{A}\\mathbf{x}^* - \\mathbf{b}= \\left(-8.88178419700125 \\times 10^{-16},\\,-1.39471767468535 \\times 10^{-15},\\,0.000000000000000,\\,0.000000000000000\\right)"
      ]
     },
     "metadata": {},
     "output_type": "display_data"
    }
   ],
   "source": [
    "show('\\mathbf{A}\\mathbf{x}^*=' + latex(A*x_star))\n",
    "show('\\mathbf{b}=' + latex(b))\n",
    "show('\\mathbf{A}\\mathbf{x}^* - \\mathbf{b}=' + latex(A*x_star - b))"
   ]
  },
  {
   "cell_type": "code",
   "execution_count": null,
   "metadata": {
    "collapsed": true
   },
   "outputs": [],
   "source": []
  }
 ],
 "metadata": {
  "kernelspec": {
   "display_name": "SageMath 7.2",
   "language": "",
   "name": "sagemath"
  },
  "language_info": {
   "codemirror_mode": {
    "name": "ipython",
    "version": 2
   },
   "file_extension": ".py",
   "mimetype": "text/x-python",
   "name": "python",
   "nbconvert_exporter": "python",
   "pygments_lexer": "ipython2",
   "version": "2.7.10"
  }
 },
 "nbformat": 4,
 "nbformat_minor": 0
}
