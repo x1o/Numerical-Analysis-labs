{
 "cells": [
  {
   "cell_type": "markdown",
   "metadata": {},
   "source": [
    "<h1>Quadrature Integration</h1>"
   ]
  },
  {
   "cell_type": "code",
   "execution_count": 1,
   "metadata": {},
   "outputs": [
    {
     "data": {
      "text/plain": []
     },
     "execution_count": 1,
     "metadata": {},
     "output_type": "execute_result"
    }
   ],
   "source": [
    "fmax = find_local_maximum\n",
    "\n",
    "def integral(f, a, b, N, method, err=False):\n",
    "    h = (b-a) / N\n",
    "    formulae = {\n",
    "        'rectangles': [h * sum(f(a + (2*k-1)*h/2) for k in range(1, N+1)),\n",
    "                       abs((b-a)^3) / (24*N^2) * fmax(abs(diff(f, x, 2)), a, b)[0]],\n",
    "        'trapezoid': [h * ( (f(a) + f(b))/2 + sum(f(a+k*h) for k in range(1, N)) ),\n",
    "                      abs((b-a)^3) / (12*N^2) * fmax(abs(diff(f, x, 2)), a, b)[0]],\n",
    "        'simpson': [(b-a) / (N*6) * ( f(a) + f(b) + 4*sum(f(a+(2*k+1)*h/2) for k in range(0, N)) + 2*sum(f(a+k*h) for k in range(1, N)) ),\n",
    "                    abs((b-a)^5) / (2880*N^4) * fmax(abs(diff(f, x, 4)), a, b)[0]]\n",
    "    }\n",
    "    if method not in formulae.keys():\n",
    "        raise Error('Unknown method: %s' % method)\n",
    "    I = formulae[method][0]\n",
    "    if err:\n",
    "        R = formulae[method][1]\n",
    "        return (I, R)\n",
    "    return I\n",
    "\n",
    "def correct_runge(I_N, I_2N, k):\n",
    "    return (-I_N + 2^k*I_2N) / (2^k - 1)"
   ]
  },
  {
   "cell_type": "code",
   "execution_count": 5,
   "metadata": {},
   "outputs": [
    {
     "data": {
      "text/plain": [
       "<html>Computing <script type=\"math/tex; mode=display\">\\int_{0}^{0.4} \\frac{1}{0.27 + \\tan(0.03 + x)} \\,\\mathrm{d}x</script></html>\n",
       "__main__:9: DeprecationWarning:  html(...) will change soon to return HTML instead of printing it. Instead use pretty_print(html(...)) for strings or just pretty_print(...) for math. \n",
       "See http://trac.sagemath.org/18292 for details.\n",
       "<html><div class=\"notruncate\">\n",
       "<table  class=\"table_form\">\n",
       "<tbody>\n",
       "<tr>\n",
       "<th class=\"ch\"></th>\n",
       "<th><script type=\"math/tex\">I_8</script></th>\n",
       "<th><script type=\"math/tex\">I_{16}</script></th>\n",
       "<th><script type=\"math/tex\">I^R</script></th>\n",
       "<th><script type=\"math/tex\">\\left| I_R^S - I_8 \\right|</script></th>\n",
       "<th><script type=\"math/tex\">A</script></th>\n",
       "</tr>\n",
       "<tr class =\"row-a\">\n",
       "<td class=\"ch\">прямоуг.</td>\n",
       "<td><script type=\"math/tex\">0.83825264</script></td>\n",
       "<td><script type=\"math/tex\">0.83893822</script></td>\n",
       "<td><script type=\"math/tex\">0.83916675</script></td>\n",
       "<td><script type=\"math/tex\">0.00091545998</script></td>\n",
       "<td><script type=\"math/tex\">0.0030638931</script></td>\n",
       "</tr>\n",
       "<tr class =\"row-b\">\n",
       "<td class=\"ch\">трапеции</td>\n",
       "<td><script type=\"math/tex\">0.84100367</script></td>\n",
       "<td><script type=\"math/tex\">0.83962816</script></td>\n",
       "<td><script type=\"math/tex\">0.83916965</script></td>\n",
       "<td><script type=\"math/tex\">0.0018355693</script></td>\n",
       "<td><script type=\"math/tex\">0.0061277862</script></td>\n",
       "</tr>\n",
       "<tr class =\"row-a\">\n",
       "<td class=\"ch\">Simpson</td>\n",
       "<td><script type=\"math/tex\">0.83916965</script></td>\n",
       "<td><script type=\"math/tex\">0.83916820</script></td>\n",
       "<td><script type=\"math/tex\">0.83916810</script></td>\n",
       "<td><script type=\"math/tex\">1.5497853 \\times 10^{-6}</script></td>\n",
       "<td><script type=\"math/tex\">8.8836022 \\times 10^{-6}</script></td>\n",
       "</tr>\n",
       "</tbody>\n",
       "</table>\n",
       "</div></html>\n",
       "<html><script type=\"math/tex; mode=display\">\\newcommand{\\Bold}[1]{\\mathbf{#1}}</script></html>"
      ]
     },
     "execution_count": 5,
     "metadata": {},
     "output_type": "execute_result"
    }
   ],
   "source": [
    "var('x')\n",
    "PREC = 8\n",
    "\n",
    "f(x) = 1/(0.27 + tan(0.03 + x))\n",
    "a = 0\n",
    "b = 0.4\n",
    "html(r'Computing $$\\int_{0}^{0.4} \\frac{1}{0.27 + \\tan(0.03 + x)} \\,\\mathrm{d}x$$')\n",
    "\n",
    "I_RS = correct_runge(integral(f, a, b, 8, 'simpson'), integral(f, a, b, 16, 'simpson'), 4).n()\n",
    "\n",
    "T = []\n",
    "for (method, k) in (('rectangles', 2), ('trapezoid', 2), ('simpson', 4)):\n",
    "    I_N, A = integral(f, a, b, 8, method, err=True)\n",
    "    I_2N = integral(f, a, b, 16, method)\n",
    "    I_R = correct_runge(I_N, I_2N, k)\n",
    "    best_delta = abs(I_RS - I_N)\n",
    "    T.append([v.n(digits=PREC) for v in [I_N, I_2N, I_R, best_delta, A]])\n",
    "\n",
    "html(table(T, header_row=['$I_8$', '$I_{16}$', '$I^R$', r'$\\left| I_R^S - I_8 \\right|$', '$A$'], header_column=['','прямоуг.','трапеции','Simpson'] ))"
   ]
  },
  {
   "cell_type": "code",
   "execution_count": 11,
   "metadata": {},
   "outputs": [
    {
     "data": {
      "text/plain": []
     },
     "execution_count": 11,
     "metadata": {},
     "output_type": "execute_result"
    }
   ],
   "source": []
  }
 ],
 "metadata": {
  "kernelspec": {
   "display_name": "SageMath",
   "name": "sagemath"
  },
  "language": "python"
 },
 "nbformat": 4,
 "nbformat_minor": 0
}
