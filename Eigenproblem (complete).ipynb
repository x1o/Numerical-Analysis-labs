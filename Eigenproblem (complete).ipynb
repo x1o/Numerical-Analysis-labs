{
 "cells": [
  {
   "cell_type": "code",
   "execution_count": 1,
   "metadata": {
    "collapsed": true
   },
   "outputs": [],
   "source": [
    "A = matrix(RDF, [[1.8, 1.2, -0.9],\n",
    "                 [1.2, 1.3, 0.8],\n",
    "                 [-0.9, 0.8, 0.8]])"
   ]
  },
  {
   "cell_type": "code",
   "execution_count": 2,
   "metadata": {
    "collapsed": false
   },
   "outputs": [],
   "source": [
    "def indexof_max(A, non_diag=False, func=lambda x: x):\n",
    "    max_i, max_j = (0, 0)\n",
    "    cur_max = -oo\n",
    "    for i in range(A.nrows()):\n",
    "        for j in range(A.ncols()):\n",
    "            if (i == j) and (non_diag):\n",
    "                continue\n",
    "            a_ij = func(A[i, j])\n",
    "            if a_ij > cur_max:\n",
    "#                 pretty_print(html('New max: %s' % A[i, j]))\n",
    "                cur_max = a_ij\n",
    "                max_i = i\n",
    "                max_j = j\n",
    "    return (max_i, max_j)"
   ]
  },
  {
   "cell_type": "code",
   "execution_count": 3,
   "metadata": {
    "collapsed": false
   },
   "outputs": [],
   "source": [
    "def C_k(A, method=2):\n",
    "    i, j = indexof_max(A, True, abs)\n",
    "#     pretty_print(html('$\\max |a_{ij}|=A_{%s%s}=%s$' % (i, j, A[i,j])))\n",
    "    d = sqrt((A[i, i] - A[j, j])^2 + 4 * A[i, j]^2)\n",
    "    c = sqrt(1/2 * (1 + abs(A[i, i] - A[j, j])/d))\n",
    "    s = sign(A[i, j] * (A[i, i] - A[j, j])) * sqrt(1/2 * (1 - abs(A[i, i] - A[j, j]) / d))\n",
    "    if method == 1:\n",
    "        T = identity_matrix(RDF, A.nrows())\n",
    "        T[i, i] = c\n",
    "        T[i, j] = -s\n",
    "        T[j, i] = s\n",
    "        T[j, j] = c\n",
    "#         show('\\mathbf{T}=' + latex(T))\n",
    "        C = T.T * A * T\n",
    "    elif method == 2:\n",
    "        C = copy(A)\n",
    "        for k in range(A.nrows()):\n",
    "            C[k, i] = c * A[k, i] + s * A[k ,j]\n",
    "            C[i, k] = C[k, i]\n",
    "            C[k, j] = -s * A[k, i] + c * A[k, j]\n",
    "            C[j, k] = C[k, j]\n",
    "        C[i, i] = (A[i, i] + A[j, j]) / 2 + sign(A[i, i] - A[j, j]) * d/2\n",
    "        C[j, j] = (A[i, i] + A[j, j]) / 2 - sign(A[i, i] - A[j, j]) * d/2\n",
    "        C[i, j] = 0\n",
    "        C[j, i] = 0\n",
    "    else:\n",
    "        raise ValueError(\"Unknown method '%s'.\" % method)\n",
    "        \n",
    "#     show('\\mathbf{C}=' + latex(C))\n",
    "    return C"
   ]
  },
  {
   "cell_type": "code",
   "execution_count": 8,
   "metadata": {
    "collapsed": false
   },
   "outputs": [],
   "source": [
    "def eigenproblem_jacobi(A, method=1, eps=10e-6, max_iter=20):\n",
    "    C = copy(A)\n",
    "    prev_evals = vector(RDF, [oo for _ in range(A.nrows())])\n",
    "    evals = vector(RDF, [0 for _ in range(A.nrows())])\n",
    "    t = 0\n",
    "    while any([abs(l) > eps for l in (evals - prev_evals)]) and t < max_iter:\n",
    "#         print(t)\n",
    "#         show('\\mathbf{A}=' + latex(C))\n",
    "        C = C_k(C, method)\n",
    "        show('\\mathbf{C}=' + latex(C))\n",
    "        prev_evals = evals\n",
    "        evals = vector(C.diagonal())\n",
    "        t += 1\n",
    "    return C, t"
   ]
  },
  {
   "cell_type": "code",
   "execution_count": 9,
   "metadata": {
    "collapsed": false
   },
   "outputs": [
    {
     "data": {
      "text/html": [
       "<html><script type=\"math/tex; mode=display\">\\newcommand{\\Bold}[1]{\\mathbf{#1}}\\mathbf{C}= \\left(\\begin{array}{rrr}\n",
       "2.77576506721 & 0.0 & -0.193572233 \\\\\n",
       "-8.32667268469 \\times 10^{-17} & 0.324234932787 & 1.18849896534 \\\\\n",
       "-0.193572233 & 1.18849896534 & 0.8\n",
       "\\end{array}\\right)</script></html>"
      ],
      "text/plain": [
       "\\mathbf{C}= \\left(\\begin{array}{rrr}\n",
       "2.77576506721 & 0.0 & -0.193572233 \\\\\n",
       "-8.32667268469 \\times 10^{-17} & 0.324234932787 & 1.18849896534 \\\\\n",
       "-0.193572233 & 1.18849896534 & 0.8\n",
       "\\end{array}\\right)"
      ]
     },
     "metadata": {},
     "output_type": "display_data"
    },
    {
     "data": {
      "text/html": [
       "<html><script type=\"math/tex; mode=display\">\\newcommand{\\Bold}[1]{\\mathbf{#1}}\\mathbf{C}= \\left(\\begin{array}{rrr}\n",
       "2.77576506721 & 0.122711582228 & -0.149706636378 \\\\\n",
       "0.122711582228 & -0.64995426845 & 1.11022302463 \\times 10^{-16} \\\\\n",
       "-0.149706636378 & 2.22044604925 \\times 10^{-16} & 1.77418920124\n",
       "\\end{array}\\right)</script></html>"
      ],
      "text/plain": [
       "\\mathbf{C}= \\left(\\begin{array}{rrr}\n",
       "2.77576506721 & 0.122711582228 & -0.149706636378 \\\\\n",
       "0.122711582228 & -0.64995426845 & 1.11022302463 \\times 10^{-16} \\\\\n",
       "-0.149706636378 & 2.22044604925 \\times 10^{-16} & 1.77418920124\n",
       "\\end{array}\\right)"
      ]
     },
     "metadata": {},
     "output_type": "display_data"
    },
    {
     "data": {
      "text/html": [
       "<html><script type=\"math/tex; mode=display\">\\newcommand{\\Bold}[1]{\\mathbf{#1}}\\mathbf{C}= \\left(\\begin{array}{rrr}\n",
       "2.79766311146 & 0.12141952283 & 1.11022302463 \\times 10^{-16} \\\\\n",
       "0.12141952283 & -0.64995426845 & 0.0177604022651 \\\\\n",
       "0.0 & 0.0177604022651 & 1.75229115699\n",
       "\\end{array}\\right)</script></html>"
      ],
      "text/plain": [
       "\\mathbf{C}= \\left(\\begin{array}{rrr}\n",
       "2.79766311146 & 0.12141952283 & 1.11022302463 \\times 10^{-16} \\\\\n",
       "0.12141952283 & -0.64995426845 & 0.0177604022651 \\\\\n",
       "0.0 & 0.0177604022651 & 1.75229115699\n",
       "\\end{array}\\right)"
      ]
     },
     "metadata": {},
     "output_type": "display_data"
    },
    {
     "data": {
      "text/html": [
       "<html><script type=\"math/tex; mode=display\">\\newcommand{\\Bold}[1]{\\mathbf{#1}}\\mathbf{C}= \\left(\\begin{array}{rrr}\n",
       "2.8019340204 & -1.2490009027 \\times 10^{-16} & 0.000624332703158 \\\\\n",
       "-1.73472347598 \\times 10^{-16} & -0.654225177382 & 0.0177494252666 \\\\\n",
       "0.000624332703158 & 0.0177494252666 & 1.75229115699\n",
       "\\end{array}\\right)</script></html>"
      ],
      "text/plain": [
       "\\mathbf{C}= \\left(\\begin{array}{rrr}\n",
       "2.8019340204 & -1.2490009027 \\times 10^{-16} & 0.000624332703158 \\\\\n",
       "-1.73472347598 \\times 10^{-16} & -0.654225177382 & 0.0177494252666 \\\\\n",
       "0.000624332703158 & 0.0177494252666 & 1.75229115699\n",
       "\\end{array}\\right)"
      ]
     },
     "metadata": {},
     "output_type": "display_data"
    },
    {
     "data": {
      "text/html": [
       "<html><script type=\"math/tex; mode=display\">\\newcommand{\\Bold}[1]{\\mathbf{#1}}\\mathbf{C}= \\left(\\begin{array}{rrr}\n",
       "2.8019340204 & -4.60443271779 \\times 10^{-06} & 0.000624315724159 \\\\\n",
       "-4.60443271784 \\times 10^{-06} & -0.654356082357 & 1.58206781009 \\times 10^{-15} \\\\\n",
       "0.000624315724159 & 1.70176372993 \\times 10^{-15} & 1.75242206196\n",
       "\\end{array}\\right)</script></html>"
      ],
      "text/plain": [
       "\\mathbf{C}= \\left(\\begin{array}{rrr}\n",
       "2.8019340204 & -4.60443271779 \\times 10^{-06} & 0.000624315724159 \\\\\n",
       "-4.60443271784 \\times 10^{-06} & -0.654356082357 & 1.58206781009 \\times 10^{-15} \\\\\n",
       "0.000624315724159 & 1.70176372993 \\times 10^{-15} & 1.75242206196\n",
       "\\end{array}\\right)"
      ]
     },
     "metadata": {},
     "output_type": "display_data"
    },
    {
     "data": {
      "text/html": [
       "<html><script type=\"math/tex; mode=display\">\\newcommand{\\Bold}[1]{\\mathbf{#1}}\\mathbf{C}= \\left(\\begin{array}{rrr}\n",
       "2.80193439178 & -4.60443190312 \\times 10^{-06} & 4.74138957263 \\times 10^{-14} \\\\\n",
       "-4.60443190317 \\times 10^{-06} & -0.654356082357 & 2.73900631416 \\times 10^{-09} \\\\\n",
       "4.73065597112 \\times 10^{-14} & 2.73900643382 \\times 10^{-09} & 1.75242169058\n",
       "\\end{array}\\right)</script></html>"
      ],
      "text/plain": [
       "\\mathbf{C}= \\left(\\begin{array}{rrr}\n",
       "2.80193439178 & -4.60443190312 \\times 10^{-06} & 4.74138957263 \\times 10^{-14} \\\\\n",
       "-4.60443190317 \\times 10^{-06} & -0.654356082357 & 2.73900631416 \\times 10^{-09} \\\\\n",
       "4.73065597112 \\times 10^{-14} & 2.73900643382 \\times 10^{-09} & 1.75242169058\n",
       "\\end{array}\\right)"
      ]
     },
     "metadata": {},
     "output_type": "display_data"
    },
    {
     "data": {
      "text/html": [
       "<html><script type=\"math/tex; mode=display\">\\newcommand{\\Bold}[1]{\\mathbf{#1}}\\left(\\left(\\begin{array}{rrr}\n",
       "2.80193439178 & -4.60443190312 \\times 10^{-06} & 4.74138957263 \\times 10^{-14} \\\\\n",
       "-4.60443190317 \\times 10^{-06} & -0.654356082357 & 2.73900631416 \\times 10^{-09} \\\\\n",
       "4.73065597112 \\times 10^{-14} & 2.73900643382 \\times 10^{-09} & 1.75242169058\n",
       "\\end{array}\\right), 6\\right)</script></html>"
      ],
      "text/plain": [
       "(\n",
       "[      2.80193439177771 -4.604431903124448e-06 4.7413895726267086e-14]\n",
       "[-4.604431903172303e-06    -0.6543560823571031 2.7390063141556958e-09]\n",
       "[ 4.730655971119102e-14 2.7390064338231697e-09     1.7524216905793943],\n",
       "\n",
       "6\n",
       ")"
      ]
     },
     "metadata": {},
     "output_type": "display_data"
    }
   ],
   "source": [
    "show(eigenproblem_jacobi(A, 1, max_iter=9))"
   ]
  },
  {
   "cell_type": "code",
   "execution_count": 10,
   "metadata": {
    "collapsed": false
   },
   "outputs": [
    {
     "data": {
      "text/html": [
       "<html><script type=\"math/tex; mode=display\">\\newcommand{\\Bold}[1]{\\mathbf{#1}}\\mathbf{C}= \\left(\\begin{array}{rrr}\n",
       "2.77576506721 & 0.0 & -0.193572233 \\\\\n",
       "0.0 & 0.324234932787 & 1.18849896534 \\\\\n",
       "-0.193572233 & 1.18849896534 & 0.8\n",
       "\\end{array}\\right)</script></html>"
      ],
      "text/plain": [
       "\\mathbf{C}= \\left(\\begin{array}{rrr}\n",
       "2.77576506721 & 0.0 & -0.193572233 \\\\\n",
       "0.0 & 0.324234932787 & 1.18849896534 \\\\\n",
       "-0.193572233 & 1.18849896534 & 0.8\n",
       "\\end{array}\\right)"
      ]
     },
     "metadata": {},
     "output_type": "display_data"
    },
    {
     "data": {
      "text/html": [
       "<html><script type=\"math/tex; mode=display\">\\newcommand{\\Bold}[1]{\\mathbf{#1}}\\mathbf{C}= \\left(\\begin{array}{rrr}\n",
       "2.77576506721 & 0.122711582228 & -0.149706636378 \\\\\n",
       "0.122711582228 & -0.64995426845 & 0.0 \\\\\n",
       "-0.149706636378 & 0.0 & 1.77418920124\n",
       "\\end{array}\\right)</script></html>"
      ],
      "text/plain": [
       "\\mathbf{C}= \\left(\\begin{array}{rrr}\n",
       "2.77576506721 & 0.122711582228 & -0.149706636378 \\\\\n",
       "0.122711582228 & -0.64995426845 & 0.0 \\\\\n",
       "-0.149706636378 & 0.0 & 1.77418920124\n",
       "\\end{array}\\right)"
      ]
     },
     "metadata": {},
     "output_type": "display_data"
    },
    {
     "data": {
      "text/html": [
       "<html><script type=\"math/tex; mode=display\">\\newcommand{\\Bold}[1]{\\mathbf{#1}}\\mathbf{C}= \\left(\\begin{array}{rrr}\n",
       "2.79766311146 & 0.12141952283 & 0.0 \\\\\n",
       "0.12141952283 & -0.64995426845 & 0.0177604022651 \\\\\n",
       "0.0 & 0.0177604022651 & 1.75229115699\n",
       "\\end{array}\\right)</script></html>"
      ],
      "text/plain": [
       "\\mathbf{C}= \\left(\\begin{array}{rrr}\n",
       "2.79766311146 & 0.12141952283 & 0.0 \\\\\n",
       "0.12141952283 & -0.64995426845 & 0.0177604022651 \\\\\n",
       "0.0 & 0.0177604022651 & 1.75229115699\n",
       "\\end{array}\\right)"
      ]
     },
     "metadata": {},
     "output_type": "display_data"
    },
    {
     "data": {
      "text/html": [
       "<html><script type=\"math/tex; mode=display\">\\newcommand{\\Bold}[1]{\\mathbf{#1}}\\mathbf{C}= \\left(\\begin{array}{rrr}\n",
       "2.8019340204 & 0.0 & 0.000624332703158 \\\\\n",
       "0.0 & -0.654225177382 & 0.0177494252666 \\\\\n",
       "0.000624332703158 & 0.0177494252666 & 1.75229115699\n",
       "\\end{array}\\right)</script></html>"
      ],
      "text/plain": [
       "\\mathbf{C}= \\left(\\begin{array}{rrr}\n",
       "2.8019340204 & 0.0 & 0.000624332703158 \\\\\n",
       "0.0 & -0.654225177382 & 0.0177494252666 \\\\\n",
       "0.000624332703158 & 0.0177494252666 & 1.75229115699\n",
       "\\end{array}\\right)"
      ]
     },
     "metadata": {},
     "output_type": "display_data"
    },
    {
     "data": {
      "text/html": [
       "<html><script type=\"math/tex; mode=display\">\\newcommand{\\Bold}[1]{\\mathbf{#1}}\\mathbf{C}= \\left(\\begin{array}{rrr}\n",
       "2.8019340204 & -4.60443271767 \\times 10^{-06} & 0.000624315724159 \\\\\n",
       "-4.60443271767 \\times 10^{-06} & -0.654356082357 & 0.0 \\\\\n",
       "0.000624315724159 & 0.0 & 1.75242206196\n",
       "\\end{array}\\right)</script></html>"
      ],
      "text/plain": [
       "\\mathbf{C}= \\left(\\begin{array}{rrr}\n",
       "2.8019340204 & -4.60443271767 \\times 10^{-06} & 0.000624315724159 \\\\\n",
       "-4.60443271767 \\times 10^{-06} & -0.654356082357 & 0.0 \\\\\n",
       "0.000624315724159 & 0.0 & 1.75242206196\n",
       "\\end{array}\\right)"
      ]
     },
     "metadata": {},
     "output_type": "display_data"
    },
    {
     "data": {
      "text/html": [
       "<html><script type=\"math/tex; mode=display\">\\newcommand{\\Bold}[1]{\\mathbf{#1}}\\mathbf{C}= \\left(\\begin{array}{rrr}\n",
       "2.80193439178 & -4.604431903 \\times 10^{-06} & 0.0 \\\\\n",
       "-4.604431903 \\times 10^{-06} & -0.654356082357 & 2.73900473198 \\times 10^{-09} \\\\\n",
       "0.0 & 2.73900473198 \\times 10^{-09} & 1.75242169058\n",
       "\\end{array}\\right)</script></html>"
      ],
      "text/plain": [
       "\\mathbf{C}= \\left(\\begin{array}{rrr}\n",
       "2.80193439178 & -4.604431903 \\times 10^{-06} & 0.0 \\\\\n",
       "-4.604431903 \\times 10^{-06} & -0.654356082357 & 2.73900473198 \\times 10^{-09} \\\\\n",
       "0.0 & 2.73900473198 \\times 10^{-09} & 1.75242169058\n",
       "\\end{array}\\right)"
      ]
     },
     "metadata": {},
     "output_type": "display_data"
    },
    {
     "data": {
      "text/html": [
       "<html><script type=\"math/tex; mode=display\">\\newcommand{\\Bold}[1]{\\mathbf{#1}}\\left(\\left(\\begin{array}{rrr}\n",
       "2.80193439178 & -4.604431903 \\times 10^{-06} & 0.0 \\\\\n",
       "-4.604431903 \\times 10^{-06} & -0.654356082357 & 2.73900473198 \\times 10^{-09} \\\\\n",
       "0.0 & 2.73900473198 \\times 10^{-09} & 1.75242169058\n",
       "\\end{array}\\right), 6\\right)</script></html>"
      ],
      "text/plain": [
       "(\n",
       "[    2.8019343917777095  -4.60443190299972e-06                    0.0]\n",
       "[ -4.60443190299972e-06    -0.6543560823571031 2.7390047319849426e-09]\n",
       "[                   0.0 2.7390047319849426e-09     1.7524216905793941],\n",
       "\n",
       "6\n",
       ")"
      ]
     },
     "metadata": {},
     "output_type": "display_data"
    }
   ],
   "source": [
    "show(eigenproblem_jacobi(A, 2, max_iter=9))"
   ]
  },
  {
   "cell_type": "code",
   "execution_count": 7,
   "metadata": {
    "collapsed": false
   },
   "outputs": [
    {
     "data": {
      "text/plain": [
       "[-0.6543560823632375, 2.8019343917838446, 1.752421690579394]"
      ]
     },
     "execution_count": 7,
     "metadata": {},
     "output_type": "execute_result"
    }
   ],
   "source": [
    "A.eigenvalues()"
   ]
  },
  {
   "cell_type": "code",
   "execution_count": null,
   "metadata": {
    "collapsed": true
   },
   "outputs": [],
   "source": []
  }
 ],
 "metadata": {
  "kernelspec": {
   "display_name": "SageMath 7.2",
   "language": "",
   "name": "sagemath"
  },
  "language_info": {
   "codemirror_mode": {
    "name": "ipython",
    "version": 2
   },
   "file_extension": ".py",
   "mimetype": "text/x-python",
   "name": "python",
   "nbconvert_exporter": "python",
   "pygments_lexer": "ipython2",
   "version": "2.7.10"
  }
 },
 "nbformat": 4,
 "nbformat_minor": 0
}
