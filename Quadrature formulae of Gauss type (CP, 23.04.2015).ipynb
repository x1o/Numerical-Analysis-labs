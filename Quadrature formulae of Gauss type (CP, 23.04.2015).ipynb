{
 "cells": [
  {
   "cell_type": "code",
   "execution_count": 1,
   "metadata": {},
   "outputs": [
    {
     "data": {
      "text/plain": [
       "1.27287618714483\n",
       "0.562790577990617\n",
       "1.79704654063697"
      ]
     },
     "execution_count": 1,
     "metadata": {},
     "output_type": "execute_result"
    }
   ],
   "source": [
    "# Mostly done on paper\n",
    "\n",
    "var('X, Y, x1, x2')\n",
    "a = -0.59\n",
    "S = solve([0.5^(a+3) / (a+3) - 0.5^(a+2)/(a+2)*X + 0.5^(a+1)/(a+1)*Y == 0, 0.5^(a+4) / (a+4) - 0.5^(a+3)/(a+3)*X + 0.5^(a+2)/(a+2)*Y == 0], X, Y)\n",
    "solve([x1 + x2 == S[0][0].rhs().n(), x1 * x2 == S[0][1].rhs().n()], x1, x2, solution_dict=True)\n",
    "x1 = 0.0481344688236236\n",
    "x2 = 0.365355267246758\n",
    "w(x) = (x-x1)*(x-x2)\n",
    "#A1 = integral(x^a * w/((x-x1) * diff(w, x)(x1)), x, 0, 0.5).n()\n",
    "A1 = integral(x^a * (x-x2) / diff(w, x)(x1), x, 0, 0.5).n()\n",
    "A2 = integral(x^a * (x-x1) / diff(w, x)(x2), x, 0, 0.5).n()\n",
    "print A1\n",
    "print A2\n",
    "print A1 * cos(x1) + A2 * cos(x2)"
   ]
  },
  {
   "cell_type": "code",
   "execution_count": 2,
   "metadata": {},
   "outputs": [
    {
     "data": {
      "text/plain": [
       "1.79707217832815"
      ]
     },
     "execution_count": 2,
     "metadata": {},
     "output_type": "execute_result"
    }
   ],
   "source": [
    "integral(x^a * cos(x), x, 0, 0.5).n()"
   ]
  },
  {
   "cell_type": "code",
   "execution_count": 11,
   "metadata": {},
   "outputs": [
    {
     "data": {
      "text/plain": []
     },
     "execution_count": 11,
     "metadata": {},
     "output_type": "execute_result"
    }
   ],
   "source": [
    "var('x1, x2, x3, x4')\n",
    "#solve([integral(x^(-0.59) * prod((x-xk) for xk in (x1, x2, x3, x4)), x, 0, 0.5), integral(x^(-0.59+1) * prod((x-xk) for xk in (x1, x2, x3, x4)), x, 0, 0.5), integral(x^(-0.59+2) * prod((x-xk) for xk in (x1, x2, x3, x4)), x, 0, 0.5), integral(x^(-0.59+3) * prod((x-xk) for xk in (x1, x2, x3, x4)), x, 0, 0.5)], x1, x2, x3, x4)"
   ]
  },
  {
   "cell_type": "code",
   "execution_count": 12,
   "metadata": {},
   "outputs": [
    {
     "data": {
      "text/plain": []
     },
     "execution_count": 12,
     "metadata": {},
     "output_type": "execute_result"
    }
   ],
   "source": []
  }
 ],
 "metadata": {
  "kernelspec": {
   "display_name": "SageMath",
   "name": "sagemath"
  },
  "language": "python"
 },
 "nbformat": 4,
 "nbformat_minor": 0
}
