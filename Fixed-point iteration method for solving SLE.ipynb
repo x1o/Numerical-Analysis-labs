{
 "cells": [
  {
   "cell_type": "markdown",
   "metadata": {},
   "source": [
    "4.09.16"
   ]
  },
  {
   "cell_type": "markdown",
   "metadata": {},
   "source": [
    "Use the idea that if $\\left\\Vert \\mathbf{B}\\right\\Vert <1$, then $$\\mathbf{x}^{(k+1)}=f(\\mathbf{x}^{(k)})=\\mathbf{B}\\mathbf{x}^{(k)}+\\mathbf{c}$$ will eventually converge to $\\mathbf{x}^*$."
   ]
  },
  {
   "cell_type": "code",
   "execution_count": 5,
   "metadata": {
    "collapsed": false
   },
   "outputs": [],
   "source": [
    "A = matrix(RDF, [[9.6248355, 1.1552729, -2.9715372],\n",
    "                [1.01552729, 7.3089145, 0.69137937],\n",
    "                [-2.9715372, 0.69137937, 5.7993761]])\n",
    "A = matrix(RDF, [[10.161209, 1.2196541, -3.1371353], [1.2196541, 7.7162264, 0.72990862], [-3.1371353, 0.72990862, 6.1225643]])\n",
    "b = vector([-7.5614304, 2.1534948, 0.4175388])\n",
    "b = vector([9.8826956, -6.7155449, -5.7038132])"
   ]
  },
  {
   "cell_type": "code",
   "execution_count": 6,
   "metadata": {
    "collapsed": true
   },
   "outputs": [],
   "source": [
    "def solve_fixed_point(A, b, x0, eps=10^(-6), max_iter=50, method='classic', verbose=True):\n",
    "    def print_table(T, B):\n",
    "        pretty_print(html(table(T, header_row=['$k$'] +\n",
    "                                ['$x_{%s}^{(k)}$' % i for i in range(B.nrows())] + \n",
    "                                ['$\\Delta_x^{(k)}$'])))\n",
    "    B = zero_matrix(RDF, *A.dimensions())\n",
    "    c = copy(b)\n",
    "    for i in range(A.nrows()):\n",
    "        for j in range(A.ncols()):\n",
    "            if i != j:\n",
    "                B[i,j] = -A[i,j] / A[i,i]\n",
    "        c[i] /= A[i,i]\n",
    "    if verbose:\n",
    "        show('\\mathbf{B}=' + latex(B))\n",
    "    x_prev = x0\n",
    "    T = []  # table\n",
    "    T.append([0] + list(x_prev) + ['Undef.'])\n",
    "    pretty_print(html('Fixed-point iteration with $\\epsilon=$ %s, max_iter = %s'  % (eps, max_iter)))\n",
    "    for k in range(1, max_iter+1):\n",
    "        x_cur = None\n",
    "        if method == 'classic':\n",
    "            x_cur = B * x_prev + c\n",
    "        elif method == 'nekrasov':\n",
    "            x_cur = zero_vector(RDF, len(x_prev))\n",
    "            for i in range(B.nrows()):\n",
    "                for j in range(B.ncols()):\n",
    "                    if i < j:\n",
    "                        x_cur[i] += B[i,j] * x_prev[j]\n",
    "                    elif i > j:\n",
    "                        x_cur[i] += B[i,j] * x_cur[j]\n",
    "                    else:\n",
    "                        continue\n",
    "                x_cur[i] += c[i]\n",
    "        else:\n",
    "            raise ValueError('Wrong method name specified: %s' % method)\n",
    "        delta_x = max(abs(x_cur[i] - x_prev[i]) for i in range(len(x_cur)))\n",
    "        T.append([k] + list(x_cur) + [delta_x])\n",
    "        if delta_x <= eps:\n",
    "            print('Converged in %s iterations.' % k)\n",
    "            if verbose:\n",
    "                print_table(T, B)\n",
    "            return x_cur\n",
    "        x_prev = x_cur\n",
    "    print('Could not converge in %s iterations.' % max_iter)\n",
    "    if verbose:\n",
    "        print_table(T, B)\n",
    "    return False"
   ]
  },
  {
   "cell_type": "code",
   "execution_count": 9,
   "metadata": {
    "collapsed": false
   },
   "outputs": [
    {
     "data": {
      "text/html": [
       "<html><script type=\"math/tex; mode=display\">\\newcommand{\\Bold}[1]{\\mathbf{#1}}\\mathbf{B}= \\left(\\begin{array}{rrr}\n",
       "0.0 & -0.120030411735 & 0.30873642103 \\\\\n",
       "-0.158063545155 & 0.0 & -0.0945939870297 \\\\\n",
       "0.512389114476 & -0.119216162417 & 0.0\n",
       "\\end{array}\\right)</script></html>"
      ],
      "text/plain": [
       "\\mathbf{B}= \\left(\\begin{array}{rrr}\n",
       "0.0 & -0.120030411735 & 0.30873642103 \\\\\n",
       "-0.158063545155 & 0.0 & -0.0945939870297 \\\\\n",
       "0.512389114476 & -0.119216162417 & 0.0\n",
       "\\end{array}\\right)"
      ]
     },
     "metadata": {},
     "output_type": "display_data"
    },
    {
     "data": {
      "text/html": [
       "Fixed-point iteration with <script type=\"math/tex\">\\epsilon=</script> 1/1000000, max_iter = 50"
      ],
      "text/plain": [
       "Fixed-point iteration with <script type=\"math/tex\">\\epsilon=</script> 1/1000000, max_iter = 50"
      ]
     },
     "metadata": {},
     "output_type": "display_data"
    },
    {
     "name": "stdout",
     "output_type": "stream",
     "text": [
      "Converged in 16 iterations.\n"
     ]
    },
    {
     "data": {
      "text/html": [
       "<div class=\"notruncate\">\n",
       "<table  class=\"table_form\">\n",
       "<tbody>\n",
       "<tr>\n",
       "<th><script type=\"math/tex\">k</script></th>\n",
       "<th><script type=\"math/tex\">x_{0}^{(k)}</script></th>\n",
       "<th><script type=\"math/tex\">x_{1}^{(k)}</script></th>\n",
       "<th><script type=\"math/tex\">x_{2}^{(k)}</script></th>\n",
       "<th><script type=\"math/tex\">\\Delta_x^{(k)}</script></th>\n",
       "</tr>\n",
       "<tr class =\"row-a\">\n",
       "<td><script type=\"math/tex\">0</script></td>\n",
       "<td><script type=\"math/tex\">1</script></td>\n",
       "<td><script type=\"math/tex\">1</script></td>\n",
       "<td><script type=\"math/tex\">1</script></td>\n",
       "<td>Undef.</td>\n",
       "</tr>\n",
       "<tr class =\"row-b\">\n",
       "<td><script type=\"math/tex\">1</script></td>\n",
       "<td><script type=\"math/tex\">1.16129653469</script></td>\n",
       "<td><script type=\"math/tex\">-1.12297218495</script></td>\n",
       "<td><script type=\"math/tex\">-0.538432323202</script></td>\n",
       "<td><script type=\"math/tex\">2.12297218495</script></td>\n",
       "</tr>\n",
       "<tr class =\"row-a\">\n",
       "<td><script type=\"math/tex\">2</script></td>\n",
       "<td><script type=\"math/tex\">0.941147670694</script></td>\n",
       "<td><script type=\"math/tex\">-1.00294083982</script></td>\n",
       "<td><script type=\"math/tex\">-0.202693137813</script></td>\n",
       "<td><script type=\"math/tex\">0.335739185389</script></td>\n",
       "</tr>\n",
       "<tr class =\"row-b\">\n",
       "<td><script type=\"math/tex\">3</script></td>\n",
       "<td><script type=\"math/tex\">1.03039517341</script></td>\n",
       "<td><script type=\"math/tex\">-0.999902238063</script></td>\n",
       "<td><script type=\"math/tex\">-0.329804695627</script></td>\n",
       "<td><script type=\"math/tex\">0.127111557814</script></td>\n",
       "</tr>\n",
       "<tr class =\"row-a\">\n",
       "<td><script type=\"math/tex\">4</script></td>\n",
       "<td><script type=\"math/tex\">0.990786481362</script></td>\n",
       "<td><script type=\"math/tex\">-1.00198502569</script></td>\n",
       "<td><script type=\"math/tex\">-0.28443749718</script></td>\n",
       "<td><script type=\"math/tex\">0.0453671984468</script></td>\n",
       "</tr>\n",
       "<tr class =\"row-b\">\n",
       "<td><script type=\"math/tex\">5</script></td>\n",
       "<td><script type=\"math/tex\">1.0050429857</script></td>\n",
       "<td><script type=\"math/tex\">-1.00001579959</script></td>\n",
       "<td><script type=\"math/tex\">-0.304484257878</script></td>\n",
       "<td><script type=\"math/tex\">0.0200467606979</script></td>\n",
       "</tr>\n",
       "<tr class =\"row-a\">\n",
       "<td><script type=\"math/tex\">6</script></td>\n",
       "<td><script type=\"math/tex\">0.998617453528</script></td>\n",
       "<td><script type=\"math/tex\">-1.00037293018</script></td>\n",
       "<td><script type=\"math/tex\">-0.297414143824</script></td>\n",
       "<td><script type=\"math/tex\">0.00707011405372</script></td>\n",
       "</tr>\n",
       "<tr class =\"row-b\">\n",
       "<td><script type=\"math/tex\">7</script></td>\n",
       "<td><script type=\"math/tex\">1.00084312177</script></td>\n",
       "<td><script type=\"math/tex\">-1.00002607806</script></td>\n",
       "<td><script type=\"math/tex\">-0.300663940824</script></td>\n",
       "<td><script type=\"math/tex\">0.00324979700009</script></td>\n",
       "</tr>\n",
       "<tr class =\"row-a\">\n",
       "<td><script type=\"math/tex\">8</script></td>\n",
       "<td><script type=\"math/tex\">0.999798158272</script></td>\n",
       "<td><script type=\"math/tex\">-1.00007046382</script></td>\n",
       "<td><script type=\"math/tex\">-0.299564883023</script></td>\n",
       "<td><script type=\"math/tex\">0.0010990578011</script></td>\n",
       "</tr>\n",
       "<tr class =\"row-b\">\n",
       "<td><script type=\"math/tex\">9</script></td>\n",
       "<td><script type=\"math/tex\">1.00014280509</script></td>\n",
       "<td><script type=\"math/tex\">-1.00000925744</script></td>\n",
       "<td><script type=\"math/tex\">-0.300095019445</script></td>\n",
       "<td><script type=\"math/tex\">0.000530136421407</script></td>\n",
       "</tr>\n",
       "<tr class =\"row-a\">\n",
       "<td><script type=\"math/tex\">10</script></td>\n",
       "<td><script type=\"math/tex\">0.999971786037</script></td>\n",
       "<td><script type=\"math/tex\">-1.00001358582</script></td>\n",
       "<td><script type=\"math/tex\">-0.299925722959</script></td>\n",
       "<td><script type=\"math/tex\">0.000171019047863</script></td>\n",
       "</tr>\n",
       "<tr class =\"row-b\">\n",
       "<td><script type=\"math/tex\">11</script></td>\n",
       "<td><script type=\"math/tex\">1.00002457357</script></td>\n",
       "<td><script type=\"math/tex\">-1.00000256838</script></td>\n",
       "<td><script type=\"math/tex\">-0.300012835244</script></td>\n",
       "<td><script type=\"math/tex\">8.71122857259 \\times 10^{-05}</script></td>\n",
       "</tr>\n",
       "<tr class =\"row-a\">\n",
       "<td><script type=\"math/tex\">12</script></td>\n",
       "<td><script type=\"math/tex\">0.999996356401</script></td>\n",
       "<td><script type=\"math/tex\">-1.00000267186</script></td>\n",
       "<td><script type=\"math/tex\">-0.299987100947</script></td>\n",
       "<td><script type=\"math/tex\">2.82171640699 \\times 10^{-05}</script></td>\n",
       "</tr>\n",
       "<tr class =\"row-b\">\n",
       "<td><script type=\"math/tex\">13</script></td>\n",
       "<td><script type=\"math/tex\">1.00000431394</script></td>\n",
       "<td><script type=\"math/tex\">-1.00000064607</script></td>\n",
       "<td><script type=\"math/tex\">-0.300001546778</script></td>\n",
       "<td><script type=\"math/tex\">1.44458305739 \\times 10^{-05}</script></td>\n",
       "</tr>\n",
       "<tr class =\"row-a\">\n",
       "<td><script type=\"math/tex\">14</script></td>\n",
       "<td><script type=\"math/tex\">0.999999610827</script></td>\n",
       "<td><script type=\"math/tex\">-1.00000053737</script></td>\n",
       "<td><script type=\"math/tex\">-0.29999771093</script></td>\n",
       "<td><script type=\"math/tex\">4.7031110646 \\times 10^{-06}</script></td>\n",
       "</tr>\n",
       "<tr class =\"row-b\">\n",
       "<td><script type=\"math/tex\">15</script></td>\n",
       "<td><script type=\"math/tex\">1.00000078205</script></td>\n",
       "<td><script type=\"math/tex\">-1.00000015683</script></td>\n",
       "<td><script type=\"math/tex\">-0.300000133711</script></td>\n",
       "<td><script type=\"math/tex\">2.42278079621 \\times 10^{-06}</script></td>\n",
       "</tr>\n",
       "<tr class =\"row-a\">\n",
       "<td><script type=\"math/tex\">16</script></td>\n",
       "<td><script type=\"math/tex\">0.999999988369</script></td>\n",
       "<td><script type=\"math/tex\">-1.00000011278</script></td>\n",
       "<td><script type=\"math/tex\">-0.299999578958</script></td>\n",
       "<td><script type=\"math/tex\">7.93677322197 \\times 10^{-07}</script></td>\n",
       "</tr>\n",
       "</tbody>\n",
       "</table>\n",
       "</div>"
      ],
      "text/plain": [
       "<div class=\"notruncate\">\n",
       "<table  class=\"table_form\">\n",
       "<tbody>\n",
       "<tr>\n",
       "<th><script type=\"math/tex\">k</script></th>\n",
       "<th><script type=\"math/tex\">x_{0}^{(k)}</script></th>\n",
       "<th><script type=\"math/tex\">x_{1}^{(k)}</script></th>\n",
       "<th><script type=\"math/tex\">x_{2}^{(k)}</script></th>\n",
       "<th><script type=\"math/tex\">\\Delta_x^{(k)}</script></th>\n",
       "</tr>\n",
       "<tr class =\"row-a\">\n",
       "<td><script type=\"math/tex\">0</script></td>\n",
       "<td><script type=\"math/tex\">1</script></td>\n",
       "<td><script type=\"math/tex\">1</script></td>\n",
       "<td><script type=\"math/tex\">1</script></td>\n",
       "<td>Undef.</td>\n",
       "</tr>\n",
       "<tr class =\"row-b\">\n",
       "<td><script type=\"math/tex\">1</script></td>\n",
       "<td><script type=\"math/tex\">1.16129653469</script></td>\n",
       "<td><script type=\"math/tex\">-1.12297218495</script></td>\n",
       "<td><script type=\"math/tex\">-0.538432323202</script></td>\n",
       "<td><script type=\"math/tex\">2.12297218495</script></td>\n",
       "</tr>\n",
       "<tr class =\"row-a\">\n",
       "<td><script type=\"math/tex\">2</script></td>\n",
       "<td><script type=\"math/tex\">0.941147670694</script></td>\n",
       "<td><script type=\"math/tex\">-1.00294083982</script></td>\n",
       "<td><script type=\"math/tex\">-0.202693137813</script></td>\n",
       "<td><script type=\"math/tex\">0.335739185389</script></td>\n",
       "</tr>\n",
       "<tr class =\"row-b\">\n",
       "<td><script type=\"math/tex\">3</script></td>\n",
       "<td><script type=\"math/tex\">1.03039517341</script></td>\n",
       "<td><script type=\"math/tex\">-0.999902238063</script></td>\n",
       "<td><script type=\"math/tex\">-0.329804695627</script></td>\n",
       "<td><script type=\"math/tex\">0.127111557814</script></td>\n",
       "</tr>\n",
       "<tr class =\"row-a\">\n",
       "<td><script type=\"math/tex\">4</script></td>\n",
       "<td><script type=\"math/tex\">0.990786481362</script></td>\n",
       "<td><script type=\"math/tex\">-1.00198502569</script></td>\n",
       "<td><script type=\"math/tex\">-0.28443749718</script></td>\n",
       "<td><script type=\"math/tex\">0.0453671984468</script></td>\n",
       "</tr>\n",
       "<tr class =\"row-b\">\n",
       "<td><script type=\"math/tex\">5</script></td>\n",
       "<td><script type=\"math/tex\">1.0050429857</script></td>\n",
       "<td><script type=\"math/tex\">-1.00001579959</script></td>\n",
       "<td><script type=\"math/tex\">-0.304484257878</script></td>\n",
       "<td><script type=\"math/tex\">0.0200467606979</script></td>\n",
       "</tr>\n",
       "<tr class =\"row-a\">\n",
       "<td><script type=\"math/tex\">6</script></td>\n",
       "<td><script type=\"math/tex\">0.998617453528</script></td>\n",
       "<td><script type=\"math/tex\">-1.00037293018</script></td>\n",
       "<td><script type=\"math/tex\">-0.297414143824</script></td>\n",
       "<td><script type=\"math/tex\">0.00707011405372</script></td>\n",
       "</tr>\n",
       "<tr class =\"row-b\">\n",
       "<td><script type=\"math/tex\">7</script></td>\n",
       "<td><script type=\"math/tex\">1.00084312177</script></td>\n",
       "<td><script type=\"math/tex\">-1.00002607806</script></td>\n",
       "<td><script type=\"math/tex\">-0.300663940824</script></td>\n",
       "<td><script type=\"math/tex\">0.00324979700009</script></td>\n",
       "</tr>\n",
       "<tr class =\"row-a\">\n",
       "<td><script type=\"math/tex\">8</script></td>\n",
       "<td><script type=\"math/tex\">0.999798158272</script></td>\n",
       "<td><script type=\"math/tex\">-1.00007046382</script></td>\n",
       "<td><script type=\"math/tex\">-0.299564883023</script></td>\n",
       "<td><script type=\"math/tex\">0.0010990578011</script></td>\n",
       "</tr>\n",
       "<tr class =\"row-b\">\n",
       "<td><script type=\"math/tex\">9</script></td>\n",
       "<td><script type=\"math/tex\">1.00014280509</script></td>\n",
       "<td><script type=\"math/tex\">-1.00000925744</script></td>\n",
       "<td><script type=\"math/tex\">-0.300095019445</script></td>\n",
       "<td><script type=\"math/tex\">0.000530136421407</script></td>\n",
       "</tr>\n",
       "<tr class =\"row-a\">\n",
       "<td><script type=\"math/tex\">10</script></td>\n",
       "<td><script type=\"math/tex\">0.999971786037</script></td>\n",
       "<td><script type=\"math/tex\">-1.00001358582</script></td>\n",
       "<td><script type=\"math/tex\">-0.299925722959</script></td>\n",
       "<td><script type=\"math/tex\">0.000171019047863</script></td>\n",
       "</tr>\n",
       "<tr class =\"row-b\">\n",
       "<td><script type=\"math/tex\">11</script></td>\n",
       "<td><script type=\"math/tex\">1.00002457357</script></td>\n",
       "<td><script type=\"math/tex\">-1.00000256838</script></td>\n",
       "<td><script type=\"math/tex\">-0.300012835244</script></td>\n",
       "<td><script type=\"math/tex\">8.71122857259 \\times 10^{-05}</script></td>\n",
       "</tr>\n",
       "<tr class =\"row-a\">\n",
       "<td><script type=\"math/tex\">12</script></td>\n",
       "<td><script type=\"math/tex\">0.999996356401</script></td>\n",
       "<td><script type=\"math/tex\">-1.00000267186</script></td>\n",
       "<td><script type=\"math/tex\">-0.299987100947</script></td>\n",
       "<td><script type=\"math/tex\">2.82171640699 \\times 10^{-05}</script></td>\n",
       "</tr>\n",
       "<tr class =\"row-b\">\n",
       "<td><script type=\"math/tex\">13</script></td>\n",
       "<td><script type=\"math/tex\">1.00000431394</script></td>\n",
       "<td><script type=\"math/tex\">-1.00000064607</script></td>\n",
       "<td><script type=\"math/tex\">-0.300001546778</script></td>\n",
       "<td><script type=\"math/tex\">1.44458305739 \\times 10^{-05}</script></td>\n",
       "</tr>\n",
       "<tr class =\"row-a\">\n",
       "<td><script type=\"math/tex\">14</script></td>\n",
       "<td><script type=\"math/tex\">0.999999610827</script></td>\n",
       "<td><script type=\"math/tex\">-1.00000053737</script></td>\n",
       "<td><script type=\"math/tex\">-0.29999771093</script></td>\n",
       "<td><script type=\"math/tex\">4.7031110646 \\times 10^{-06}</script></td>\n",
       "</tr>\n",
       "<tr class =\"row-b\">\n",
       "<td><script type=\"math/tex\">15</script></td>\n",
       "<td><script type=\"math/tex\">1.00000078205</script></td>\n",
       "<td><script type=\"math/tex\">-1.00000015683</script></td>\n",
       "<td><script type=\"math/tex\">-0.300000133711</script></td>\n",
       "<td><script type=\"math/tex\">2.42278079621 \\times 10^{-06}</script></td>\n",
       "</tr>\n",
       "<tr class =\"row-a\">\n",
       "<td><script type=\"math/tex\">16</script></td>\n",
       "<td><script type=\"math/tex\">0.999999988369</script></td>\n",
       "<td><script type=\"math/tex\">-1.00000011278</script></td>\n",
       "<td><script type=\"math/tex\">-0.299999578958</script></td>\n",
       "<td><script type=\"math/tex\">7.93677322197 \\times 10^{-07}</script></td>\n",
       "</tr>\n",
       "</tbody>\n",
       "</table>\n",
       "</div>"
      ]
     },
     "metadata": {},
     "output_type": "display_data"
    },
    {
     "data": {
      "text/html": [
       "<html><script type=\"math/tex; mode=display\">\\newcommand{\\Bold}[1]{\\mathbf{#1}}\\mathbf{x}^*= \\left(0.999999988369,\\,-1.00000011278,\\,-0.299999578958\\right)</script></html>"
      ],
      "text/plain": [
       "\\mathbf{x}^*= \\left(0.999999988369,\\,-1.00000011278,\\,-0.299999578958\\right)"
      ]
     },
     "metadata": {},
     "output_type": "display_data"
    }
   ],
   "source": [
    "x_star = solve_fixed_point(A, b, vector([1, 1, 1]), method='classic')\n",
    "if x_star is not False:\n",
    "    show('\\mathbf{x}^*=' + latex(x_star))"
   ]
  },
  {
   "cell_type": "code",
   "execution_count": 43,
   "metadata": {
    "collapsed": false
   },
   "outputs": [
    {
     "data": {
      "text/plain": [
       "(7.794716054831952e-07, -1.433007215112525e-07, -4.440892098500626e-16)"
      ]
     },
     "execution_count": 43,
     "metadata": {},
     "output_type": "execute_result"
    }
   ],
   "source": [
    "A * x_star - b"
   ]
  },
  {
   "cell_type": "code",
   "execution_count": 44,
   "metadata": {
    "collapsed": true
   },
   "outputs": [],
   "source": [
    "A = matrix(RDF, [[9.6248355, 1.1552729, -2.9715372],\n",
    "                [1.01552729, 7.3089145, 0.69137937],\n",
    "                [-2.9715372, 0.69137937, 5.7993761]])\n",
    "b = vector([-7.5614304, 2.1534948, 0.4175388])"
   ]
  },
  {
   "cell_type": "code",
   "execution_count": 45,
   "metadata": {
    "collapsed": false
   },
   "outputs": [
    {
     "name": "stdout",
     "output_type": "stream",
     "text": [
      "4.1268101\n"
     ]
    },
    {
     "data": {
      "text/html": [
       "<html><script type=\"math/tex; mode=display\">\\newcommand{\\Bold}[1]{\\mathbf{#1}}\\left(\\begin{array}{rrr}\n",
       "4.0268101 & 1.1552729 & -2.9715372 \\\\\n",
       "1.01552729 & 7.3089145 & 0.69137937 \\\\\n",
       "-2.9715372 & 0.69137937 & 5.7993761\n",
       "\\end{array}\\right)</script></html>"
      ],
      "text/plain": [
       "[4.0268101000000005          1.1552729         -2.9715372]\n",
       "[        1.01552729          7.3089145         0.69137937]\n",
       "[        -2.9715372         0.69137937          5.7993761]"
      ]
     },
     "metadata": {},
     "output_type": "display_data"
    },
    {
     "data": {
      "text/html": [
       "<html><script type=\"math/tex; mode=display\">\\newcommand{\\Bold}[1]{\\mathbf{#1}}\\mathbf{B}= \\left(\\begin{array}{rrr}\n",
       "0.0 & -0.286895302066 & 0.737938250428 \\\\\n",
       "-0.138943654355 & 0.0 & -0.0945939879308 \\\\\n",
       "0.512389117167 & -0.119216163615 & 0.0\n",
       "\\end{array}\\right)</script></html>"
      ],
      "text/plain": [
       "\\mathbf{B}= \\left(\\begin{array}{rrr}\n",
       "0.0 & -0.286895302066 & 0.737938250428 \\\\\n",
       "-0.138943654355 & 0.0 & -0.0945939879308 \\\\\n",
       "0.512389117167 & -0.119216163615 & 0.0\n",
       "\\end{array}\\right)"
      ]
     },
     "metadata": {},
     "output_type": "display_data"
    },
    {
     "data": {
      "text/html": [
       "Fixed-point iteration with <script type=\"math/tex\">\\epsilon=</script> 1/1000000, max_iter = 50"
      ],
      "text/plain": [
       "Fixed-point iteration with <script type=\"math/tex\">\\epsilon=</script> 1/1000000, max_iter = 50"
      ]
     },
     "metadata": {},
     "output_type": "display_data"
    },
    {
     "name": "stdout",
     "output_type": "stream",
     "text": [
      "Converged in 38 iterations.\n"
     ]
    },
    {
     "data": {
      "text/html": [
       "<html><script type=\"math/tex; mode=display\">\\newcommand{\\Bold}[1]{\\mathbf{#1}}\\mathbf{x}^*= \\left(-3.51063579823,\\,0.956553250967,\\,-1.84085051205\\right)</script></html>"
      ],
      "text/plain": [
       "\\mathbf{x}^*= \\left(-3.51063579823,\\,0.956553250967,\\,-1.84085051205\\right)"
      ]
     },
     "metadata": {},
     "output_type": "display_data"
    }
   ],
   "source": [
    "C = copy(A)\n",
    "s = sum(abs(A[0, i]) for i in (1, 2))\n",
    "print(s)\n",
    "C[0, 0] = s - 0.1\n",
    "show(C)\n",
    "x_star = solve_fixed_point(C, b, vector([1, 1, 1]), method='classic', verbose=False)\n",
    "if x_star is not False:\n",
    "    show('\\mathbf{x}^*=' + latex(x_star))"
   ]
  },
  {
   "cell_type": "code",
   "execution_count": 46,
   "metadata": {
    "collapsed": false
   },
   "outputs": [
    {
     "name": "stdout",
     "output_type": "stream",
     "text": [
      "1.70690666\n"
     ]
    },
    {
     "data": {
      "text/html": [
       "<html><script type=\"math/tex; mode=display\">\\newcommand{\\Bold}[1]{\\mathbf{#1}}\\left(\\begin{array}{rrr}\n",
       "4.0268101 & 1.1552729 & -2.9715372 \\\\\n",
       "1.01552729 & 1.60690666 & 0.69137937 \\\\\n",
       "-2.9715372 & 0.69137937 & 5.7993761\n",
       "\\end{array}\\right)</script></html>"
      ],
      "text/plain": [
       "[4.0268101000000005          1.1552729         -2.9715372]\n",
       "[        1.01552729         1.60690666         0.69137937]\n",
       "[        -2.9715372         0.69137937          5.7993761]"
      ]
     },
     "metadata": {},
     "output_type": "display_data"
    },
    {
     "data": {
      "text/html": [
       "<html><script type=\"math/tex; mode=display\">\\newcommand{\\Bold}[1]{\\mathbf{#1}}\\mathbf{B}= \\left(\\begin{array}{rrr}\n",
       "0.0 & -0.286895302066 & 0.737938250428 \\\\\n",
       "-0.631976526876 & 0.0 & -0.430254841311 \\\\\n",
       "0.512389117167 & -0.119216163615 & 0.0\n",
       "\\end{array}\\right)</script></html>"
      ],
      "text/plain": [
       "\\mathbf{B}= \\left(\\begin{array}{rrr}\n",
       "0.0 & -0.286895302066 & 0.737938250428 \\\\\n",
       "-0.631976526876 & 0.0 & -0.430254841311 \\\\\n",
       "0.512389117167 & -0.119216163615 & 0.0\n",
       "\\end{array}\\right)"
      ]
     },
     "metadata": {},
     "output_type": "display_data"
    },
    {
     "data": {
      "text/html": [
       "Fixed-point iteration with <script type=\"math/tex\">\\epsilon=</script> 1/1000000, max_iter = 100"
      ],
      "text/plain": [
       "Fixed-point iteration with <script type=\"math/tex\">\\epsilon=</script> 1/1000000, max_iter = 100"
      ]
     },
     "metadata": {},
     "output_type": "display_data"
    },
    {
     "name": "stdout",
     "output_type": "stream",
     "text": [
      "Converged in 98 iterations.\n"
     ]
    },
    {
     "data": {
      "text/html": [
       "<html><script type=\"math/tex; mode=display\">\\newcommand{\\Bold}[1]{\\mathbf{#1}}\\mathbf{x}^*= \\left(-8.21562299867,\\,8.76187677824,\\,-5.1821553935\\right)</script></html>"
      ],
      "text/plain": [
       "\\mathbf{x}^*= \\left(-8.21562299867,\\,8.76187677824,\\,-5.1821553935\\right)"
      ]
     },
     "metadata": {},
     "output_type": "display_data"
    }
   ],
   "source": [
    "s = abs(C[1, 0]) + abs(C[1, 2])\n",
    "print(s)\n",
    "C[1, 1] = s - 0.1\n",
    "show(C)\n",
    "x_star = solve_fixed_point(C, b, vector([1, 1, 1]), method='classic', max_iter=100, verbose=False)\n",
    "if x_star is not False:\n",
    "    show('\\mathbf{x}^*=' + latex(x_star))"
   ]
  },
  {
   "cell_type": "code",
   "execution_count": 67,
   "metadata": {
    "collapsed": false
   },
   "outputs": [
    {
     "name": "stdout",
     "output_type": "stream",
     "text": [
      "1.38275874\n"
     ]
    },
    {
     "data": {
      "text/html": [
       "<html><script type=\"math/tex; mode=display\">\\newcommand{\\Bold}[1]{\\mathbf{#1}}q= 0.000000000000000 , s= 0.0</script></html>"
      ],
      "text/plain": [
       "q= 0.000000000000000 , s= 0.0"
      ]
     },
     "metadata": {},
     "output_type": "display_data"
    },
    {
     "data": {
      "text/html": [
       "Fixed-point iteration with <script type=\"math/tex\">\\epsilon=</script> 1/1000000, max_iter = 10000"
      ],
      "text/plain": [
       "Fixed-point iteration with <script type=\"math/tex\">\\epsilon=</script> 1/1000000, max_iter = 10000"
      ]
     },
     "metadata": {},
     "output_type": "display_data"
    },
    {
     "name": "stdout",
     "output_type": "stream",
     "text": [
      "Could not converge in 10000 iterations.\n"
     ]
    },
    {
     "data": {
      "text/html": [
       "<html><script type=\"math/tex; mode=display\">\\newcommand{\\Bold}[1]{\\mathbf{#1}}q= 0.100000000000000 , s= 0.138275874</script></html>"
      ],
      "text/plain": [
       "q= 0.100000000000000 , s= 0.138275874"
      ]
     },
     "metadata": {},
     "output_type": "display_data"
    },
    {
     "data": {
      "text/html": [
       "Fixed-point iteration with <script type=\"math/tex\">\\epsilon=</script> 1/1000000, max_iter = 10000"
      ],
      "text/plain": [
       "Fixed-point iteration with <script type=\"math/tex\">\\epsilon=</script> 1/1000000, max_iter = 10000"
      ]
     },
     "metadata": {},
     "output_type": "display_data"
    },
    {
     "name": "stdout",
     "output_type": "stream",
     "text": [
      "Could not converge in 10000 iterations.\n"
     ]
    },
    {
     "data": {
      "text/html": [
       "<html><script type=\"math/tex; mode=display\">\\newcommand{\\Bold}[1]{\\mathbf{#1}}q= 0.200000000000000 , s= 0.276551748</script></html>"
      ],
      "text/plain": [
       "q= 0.200000000000000 , s= 0.276551748"
      ]
     },
     "metadata": {},
     "output_type": "display_data"
    },
    {
     "data": {
      "text/html": [
       "Fixed-point iteration with <script type=\"math/tex\">\\epsilon=</script> 1/1000000, max_iter = 10000"
      ],
      "text/plain": [
       "Fixed-point iteration with <script type=\"math/tex\">\\epsilon=</script> 1/1000000, max_iter = 10000"
      ]
     },
     "metadata": {},
     "output_type": "display_data"
    },
    {
     "name": "stdout",
     "output_type": "stream",
     "text": [
      "Could not converge in 10000 iterations.\n"
     ]
    },
    {
     "data": {
      "text/html": [
       "<html><script type=\"math/tex; mode=display\">\\newcommand{\\Bold}[1]{\\mathbf{#1}}q= 0.300000000000000 , s= 0.414827622</script></html>"
      ],
      "text/plain": [
       "q= 0.300000000000000 , s= 0.414827622"
      ]
     },
     "metadata": {},
     "output_type": "display_data"
    },
    {
     "data": {
      "text/html": [
       "Fixed-point iteration with <script type=\"math/tex\">\\epsilon=</script> 1/1000000, max_iter = 10000"
      ],
      "text/plain": [
       "Fixed-point iteration with <script type=\"math/tex\">\\epsilon=</script> 1/1000000, max_iter = 10000"
      ]
     },
     "metadata": {},
     "output_type": "display_data"
    },
    {
     "name": "stdout",
     "output_type": "stream",
     "text": [
      "Could not converge in 10000 iterations.\n"
     ]
    },
    {
     "data": {
      "text/html": [
       "<html><script type=\"math/tex; mode=display\">\\newcommand{\\Bold}[1]{\\mathbf{#1}}q= 0.400000000000000 , s= 0.553103496</script></html>"
      ],
      "text/plain": [
       "q= 0.400000000000000 , s= 0.553103496"
      ]
     },
     "metadata": {},
     "output_type": "display_data"
    },
    {
     "data": {
      "text/html": [
       "Fixed-point iteration with <script type=\"math/tex\">\\epsilon=</script> 1/1000000, max_iter = 10000"
      ],
      "text/plain": [
       "Fixed-point iteration with <script type=\"math/tex\">\\epsilon=</script> 1/1000000, max_iter = 10000"
      ]
     },
     "metadata": {},
     "output_type": "display_data"
    },
    {
     "name": "stdout",
     "output_type": "stream",
     "text": [
      "Could not converge in 10000 iterations.\n"
     ]
    },
    {
     "data": {
      "text/html": [
       "<html><script type=\"math/tex; mode=display\">\\newcommand{\\Bold}[1]{\\mathbf{#1}}q= 0.500000000000000 , s= 0.69137937</script></html>"
      ],
      "text/plain": [
       "q= 0.500000000000000 , s= 0.69137937"
      ]
     },
     "metadata": {},
     "output_type": "display_data"
    },
    {
     "data": {
      "text/html": [
       "Fixed-point iteration with <script type=\"math/tex\">\\epsilon=</script> 1/1000000, max_iter = 10000"
      ],
      "text/plain": [
       "Fixed-point iteration with <script type=\"math/tex\">\\epsilon=</script> 1/1000000, max_iter = 10000"
      ]
     },
     "metadata": {},
     "output_type": "display_data"
    },
    {
     "name": "stdout",
     "output_type": "stream",
     "text": [
      "Could not converge in 10000 iterations.\n"
     ]
    },
    {
     "data": {
      "text/html": [
       "<html><script type=\"math/tex; mode=display\">\\newcommand{\\Bold}[1]{\\mathbf{#1}}q= 0.600000000000000 , s= 0.829655244</script></html>"
      ],
      "text/plain": [
       "q= 0.600000000000000 , s= 0.829655244"
      ]
     },
     "metadata": {},
     "output_type": "display_data"
    },
    {
     "data": {
      "text/html": [
       "Fixed-point iteration with <script type=\"math/tex\">\\epsilon=</script> 1/1000000, max_iter = 10000"
      ],
      "text/plain": [
       "Fixed-point iteration with <script type=\"math/tex\">\\epsilon=</script> 1/1000000, max_iter = 10000"
      ]
     },
     "metadata": {},
     "output_type": "display_data"
    },
    {
     "name": "stdout",
     "output_type": "stream",
     "text": [
      "Could not converge in 10000 iterations.\n"
     ]
    },
    {
     "data": {
      "text/html": [
       "<html><script type=\"math/tex; mode=display\">\\newcommand{\\Bold}[1]{\\mathbf{#1}}q= 0.700000000000000 , s= 0.967931118</script></html>"
      ],
      "text/plain": [
       "q= 0.700000000000000 , s= 0.967931118"
      ]
     },
     "metadata": {},
     "output_type": "display_data"
    },
    {
     "data": {
      "text/html": [
       "Fixed-point iteration with <script type=\"math/tex\">\\epsilon=</script> 1/1000000, max_iter = 10000"
      ],
      "text/plain": [
       "Fixed-point iteration with <script type=\"math/tex\">\\epsilon=</script> 1/1000000, max_iter = 10000"
      ]
     },
     "metadata": {},
     "output_type": "display_data"
    },
    {
     "name": "stdout",
     "output_type": "stream",
     "text": [
      "Could not converge in 10000 iterations.\n"
     ]
    },
    {
     "data": {
      "text/html": [
       "<html><script type=\"math/tex; mode=display\">\\newcommand{\\Bold}[1]{\\mathbf{#1}}q= 0.800000000000000 , s= 1.106206992</script></html>"
      ],
      "text/plain": [
       "q= 0.800000000000000 , s= 1.106206992"
      ]
     },
     "metadata": {},
     "output_type": "display_data"
    },
    {
     "data": {
      "text/html": [
       "Fixed-point iteration with <script type=\"math/tex\">\\epsilon=</script> 1/1000000, max_iter = 10000"
      ],
      "text/plain": [
       "Fixed-point iteration with <script type=\"math/tex\">\\epsilon=</script> 1/1000000, max_iter = 10000"
      ]
     },
     "metadata": {},
     "output_type": "display_data"
    },
    {
     "name": "stdout",
     "output_type": "stream",
     "text": [
      "Could not converge in 10000 iterations.\n"
     ]
    },
    {
     "data": {
      "text/html": [
       "<html><script type=\"math/tex; mode=display\">\\newcommand{\\Bold}[1]{\\mathbf{#1}}q= 0.900000000000000 , s= 1.244482866</script></html>"
      ],
      "text/plain": [
       "q= 0.900000000000000 , s= 1.244482866"
      ]
     },
     "metadata": {},
     "output_type": "display_data"
    },
    {
     "data": {
      "text/html": [
       "Fixed-point iteration with <script type=\"math/tex\">\\epsilon=</script> 1/1000000, max_iter = 10000"
      ],
      "text/plain": [
       "Fixed-point iteration with <script type=\"math/tex\">\\epsilon=</script> 1/1000000, max_iter = 10000"
      ]
     },
     "metadata": {},
     "output_type": "display_data"
    },
    {
     "name": "stdout",
     "output_type": "stream",
     "text": [
      "Could not converge in 10000 iterations.\n"
     ]
    },
    {
     "data": {
      "text/html": [
       "<html><script type=\"math/tex; mode=display\">\\newcommand{\\Bold}[1]{\\mathbf{#1}}q= 1.00000000000000 , s= 1.38275874</script></html>"
      ],
      "text/plain": [
       "q= 1.00000000000000 , s= 1.38275874"
      ]
     },
     "metadata": {},
     "output_type": "display_data"
    },
    {
     "data": {
      "text/html": [
       "Fixed-point iteration with <script type=\"math/tex\">\\epsilon=</script> 1/1000000, max_iter = 10000"
      ],
      "text/plain": [
       "Fixed-point iteration with <script type=\"math/tex\">\\epsilon=</script> 1/1000000, max_iter = 10000"
      ]
     },
     "metadata": {},
     "output_type": "display_data"
    },
    {
     "name": "stdout",
     "output_type": "stream",
     "text": [
      "Could not converge in 10000 iterations.\n"
     ]
    },
    {
     "data": {
      "text/html": [
       "<html><script type=\"math/tex; mode=display\">\\newcommand{\\Bold}[1]{\\mathbf{#1}}q= 1.10000000000000 , s= 1.521034614</script></html>"
      ],
      "text/plain": [
       "q= 1.10000000000000 , s= 1.521034614"
      ]
     },
     "metadata": {},
     "output_type": "display_data"
    },
    {
     "data": {
      "text/html": [
       "Fixed-point iteration with <script type=\"math/tex\">\\epsilon=</script> 1/1000000, max_iter = 10000"
      ],
      "text/plain": [
       "Fixed-point iteration with <script type=\"math/tex\">\\epsilon=</script> 1/1000000, max_iter = 10000"
      ]
     },
     "metadata": {},
     "output_type": "display_data"
    },
    {
     "name": "stdout",
     "output_type": "stream",
     "text": [
      "Could not converge in 10000 iterations.\n"
     ]
    },
    {
     "data": {
      "text/html": [
       "<html><script type=\"math/tex; mode=display\">\\newcommand{\\Bold}[1]{\\mathbf{#1}}q= 1.20000000000000 , s= 1.659310488</script></html>"
      ],
      "text/plain": [
       "q= 1.20000000000000 , s= 1.659310488"
      ]
     },
     "metadata": {},
     "output_type": "display_data"
    },
    {
     "data": {
      "text/html": [
       "Fixed-point iteration with <script type=\"math/tex\">\\epsilon=</script> 1/1000000, max_iter = 10000"
      ],
      "text/plain": [
       "Fixed-point iteration with <script type=\"math/tex\">\\epsilon=</script> 1/1000000, max_iter = 10000"
      ]
     },
     "metadata": {},
     "output_type": "display_data"
    },
    {
     "name": "stdout",
     "output_type": "stream",
     "text": [
      "Could not converge in 10000 iterations.\n"
     ]
    },
    {
     "data": {
      "text/html": [
       "<html><script type=\"math/tex; mode=display\">\\newcommand{\\Bold}[1]{\\mathbf{#1}}q= 1.30000000000000 , s= 1.797586362</script></html>"
      ],
      "text/plain": [
       "q= 1.30000000000000 , s= 1.797586362"
      ]
     },
     "metadata": {},
     "output_type": "display_data"
    },
    {
     "data": {
      "text/html": [
       "Fixed-point iteration with <script type=\"math/tex\">\\epsilon=</script> 1/1000000, max_iter = 10000"
      ],
      "text/plain": [
       "Fixed-point iteration with <script type=\"math/tex\">\\epsilon=</script> 1/1000000, max_iter = 10000"
      ]
     },
     "metadata": {},
     "output_type": "display_data"
    },
    {
     "name": "stdout",
     "output_type": "stream",
     "text": [
      "Could not converge in 10000 iterations.\n"
     ]
    },
    {
     "data": {
      "text/html": [
       "<html><script type=\"math/tex; mode=display\">\\newcommand{\\Bold}[1]{\\mathbf{#1}}q= 1.40000000000000 , s= 1.935862236</script></html>"
      ],
      "text/plain": [
       "q= 1.40000000000000 , s= 1.935862236"
      ]
     },
     "metadata": {},
     "output_type": "display_data"
    },
    {
     "data": {
      "text/html": [
       "Fixed-point iteration with <script type=\"math/tex\">\\epsilon=</script> 1/1000000, max_iter = 10000"
      ],
      "text/plain": [
       "Fixed-point iteration with <script type=\"math/tex\">\\epsilon=</script> 1/1000000, max_iter = 10000"
      ]
     },
     "metadata": {},
     "output_type": "display_data"
    },
    {
     "name": "stdout",
     "output_type": "stream",
     "text": [
      "Could not converge in 10000 iterations.\n"
     ]
    },
    {
     "data": {
      "text/html": [
       "<html><script type=\"math/tex; mode=display\">\\newcommand{\\Bold}[1]{\\mathbf{#1}}q= 1.50000000000000 , s= 2.07413811</script></html>"
      ],
      "text/plain": [
       "q= 1.50000000000000 , s= 2.07413811"
      ]
     },
     "metadata": {},
     "output_type": "display_data"
    },
    {
     "data": {
      "text/html": [
       "Fixed-point iteration with <script type=\"math/tex\">\\epsilon=</script> 1/1000000, max_iter = 10000"
      ],
      "text/plain": [
       "Fixed-point iteration with <script type=\"math/tex\">\\epsilon=</script> 1/1000000, max_iter = 10000"
      ]
     },
     "metadata": {},
     "output_type": "display_data"
    },
    {
     "name": "stdout",
     "output_type": "stream",
     "text": [
      "Could not converge in 10000 iterations.\n"
     ]
    },
    {
     "data": {
      "text/html": [
       "<html><script type=\"math/tex; mode=display\">\\newcommand{\\Bold}[1]{\\mathbf{#1}}q= 1.60000000000000 , s= 2.212413984</script></html>"
      ],
      "text/plain": [
       "q= 1.60000000000000 , s= 2.212413984"
      ]
     },
     "metadata": {},
     "output_type": "display_data"
    },
    {
     "data": {
      "text/html": [
       "Fixed-point iteration with <script type=\"math/tex\">\\epsilon=</script> 1/1000000, max_iter = 10000"
      ],
      "text/plain": [
       "Fixed-point iteration with <script type=\"math/tex\">\\epsilon=</script> 1/1000000, max_iter = 10000"
      ]
     },
     "metadata": {},
     "output_type": "display_data"
    },
    {
     "name": "stdout",
     "output_type": "stream",
     "text": [
      "Could not converge in 10000 iterations.\n"
     ]
    },
    {
     "data": {
      "text/html": [
       "<html><script type=\"math/tex; mode=display\">\\newcommand{\\Bold}[1]{\\mathbf{#1}}q= 1.70000000000000 , s= 2.350689858</script></html>"
      ],
      "text/plain": [
       "q= 1.70000000000000 , s= 2.350689858"
      ]
     },
     "metadata": {},
     "output_type": "display_data"
    },
    {
     "data": {
      "text/html": [
       "Fixed-point iteration with <script type=\"math/tex\">\\epsilon=</script> 1/1000000, max_iter = 10000"
      ],
      "text/plain": [
       "Fixed-point iteration with <script type=\"math/tex\">\\epsilon=</script> 1/1000000, max_iter = 10000"
      ]
     },
     "metadata": {},
     "output_type": "display_data"
    },
    {
     "name": "stdout",
     "output_type": "stream",
     "text": [
      "Could not converge in 10000 iterations.\n"
     ]
    },
    {
     "data": {
      "text/html": [
       "<html><script type=\"math/tex; mode=display\">\\newcommand{\\Bold}[1]{\\mathbf{#1}}q= 1.80000000000000 , s= 2.488965732</script></html>"
      ],
      "text/plain": [
       "q= 1.80000000000000 , s= 2.488965732"
      ]
     },
     "metadata": {},
     "output_type": "display_data"
    },
    {
     "data": {
      "text/html": [
       "Fixed-point iteration with <script type=\"math/tex\">\\epsilon=</script> 1/1000000, max_iter = 10000"
      ],
      "text/plain": [
       "Fixed-point iteration with <script type=\"math/tex\">\\epsilon=</script> 1/1000000, max_iter = 10000"
      ]
     },
     "metadata": {},
     "output_type": "display_data"
    },
    {
     "name": "stdout",
     "output_type": "stream",
     "text": [
      "Could not converge in 10000 iterations.\n"
     ]
    },
    {
     "data": {
      "text/html": [
       "<html><script type=\"math/tex; mode=display\">\\newcommand{\\Bold}[1]{\\mathbf{#1}}q= 1.90000000000000 , s= 2.627241606</script></html>"
      ],
      "text/plain": [
       "q= 1.90000000000000 , s= 2.627241606"
      ]
     },
     "metadata": {},
     "output_type": "display_data"
    },
    {
     "data": {
      "text/html": [
       "Fixed-point iteration with <script type=\"math/tex\">\\epsilon=</script> 1/1000000, max_iter = 10000"
      ],
      "text/plain": [
       "Fixed-point iteration with <script type=\"math/tex\">\\epsilon=</script> 1/1000000, max_iter = 10000"
      ]
     },
     "metadata": {},
     "output_type": "display_data"
    },
    {
     "name": "stdout",
     "output_type": "stream",
     "text": [
      "Converged in 1158 iterations.\n"
     ]
    },
    {
     "data": {
      "text/html": [
       "<html><script type=\"math/tex; mode=display\">\\newcommand{\\Bold}[1]{\\mathbf{#1}}\\mathbf{x}^*= \\left(-85.4405662002,\\,89.1460246442,\\,-78.580043318\\right)</script></html>"
      ],
      "text/plain": [
       "\\mathbf{x}^*= \\left(-85.4405662002,\\,89.1460246442,\\,-78.580043318\\right)"
      ]
     },
     "metadata": {},
     "output_type": "display_data"
    }
   ],
   "source": [
    "s = abs(C[2, 1]) + abs(C[1, 2])\n",
    "print(s)\n",
    "for q in srange(0, 10, 0.1):\n",
    "    show('q=' + latex(q) + ', s=' + latex(s*q))\n",
    "    C[2, 2] = s + s*q\n",
    "    x_star = solve_fixed_point(C, b, vector([1, 1, 1]), method='classic', max_iter=10000, verbose=False)\n",
    "    if x_star is not False:\n",
    "        show('\\mathbf{x}^*=' + latex(x_star))\n",
    "        break"
   ]
  },
  {
   "cell_type": "code",
   "execution_count": 88,
   "metadata": {
    "collapsed": false
   },
   "outputs": [
    {
     "data": {
      "text/html": [
       "Fixed-point iteration with <script type=\"math/tex\">\\epsilon=</script> 1/1000000, max_iter = 10000"
      ],
      "text/plain": [
       "Fixed-point iteration with <script type=\"math/tex\">\\epsilon=</script> 1/1000000, max_iter = 10000"
      ]
     },
     "metadata": {},
     "output_type": "display_data"
    },
    {
     "name": "stdout",
     "output_type": "stream",
     "text": [
      "Could not converge in 10000 iterations.\n"
     ]
    }
   ],
   "source": [
    "s = abs(C[2, 1]) + abs(C[1, 2])\n",
    "C[2, 2] = s + 2.515\n",
    "x_star = solve_fixed_point(C, b, vector([1, 1, 1]), method='classic', max_iter=10000, verbose=False)\n",
    "if x_star is not False:\n",
    "    show('\\mathbf{x}^*=' + latex(x_star))"
   ]
  },
  {
   "cell_type": "code",
   "execution_count": 90,
   "metadata": {
    "collapsed": false
   },
   "outputs": [
    {
     "data": {
      "text/html": [
       "<html><script type=\"math/tex; mode=display\">\\newcommand{\\Bold}[1]{\\mathbf{#1}}\\left(\\begin{array}{rrr}\n",
       "96.248355 & 1.1552729 & -2.9715372 \\\\\n",
       "1.01552729 & 73.089145 & 0.69137937 \\\\\n",
       "-2.9715372 & 0.69137937 & 57.993761\n",
       "\\end{array}\\right)</script></html>"
      ],
      "text/plain": [
       "[ 96.248355  1.1552729 -2.9715372]\n",
       "[1.01552729  73.089145 0.69137937]\n",
       "[-2.9715372 0.69137937  57.993761]"
      ]
     },
     "metadata": {},
     "output_type": "display_data"
    },
    {
     "data": {
      "text/html": [
       "<html><script type=\"math/tex; mode=display\">\\newcommand{\\Bold}[1]{\\mathbf{#1}}\\mathbf{B}= \\left(\\begin{array}{rrr}\n",
       "0.0 & -0.0120030404675 & 0.0308736414248 \\\\\n",
       "-0.0138943654355 & 0.0 & -0.00945939879308 \\\\\n",
       "0.0512389117167 & -0.0119216163615 & 0.0\n",
       "\\end{array}\\right)</script></html>"
      ],
      "text/plain": [
       "\\mathbf{B}= \\left(\\begin{array}{rrr}\n",
       "0.0 & -0.0120030404675 & 0.0308736414248 \\\\\n",
       "-0.0138943654355 & 0.0 & -0.00945939879308 \\\\\n",
       "0.0512389117167 & -0.0119216163615 & 0.0\n",
       "\\end{array}\\right)"
      ]
     },
     "metadata": {},
     "output_type": "display_data"
    },
    {
     "data": {
      "text/html": [
       "Fixed-point iteration with <script type=\"math/tex\">\\epsilon=</script> 1/1000000, max_iter = 100"
      ],
      "text/plain": [
       "Fixed-point iteration with <script type=\"math/tex\">\\epsilon=</script> 1/1000000, max_iter = 100"
      ]
     },
     "metadata": {},
     "output_type": "display_data"
    },
    {
     "name": "stdout",
     "output_type": "stream",
     "text": [
      "Converged in 4 iterations.\n"
     ]
    },
    {
     "data": {
      "text/html": [
       "<div class=\"notruncate\">\n",
       "<table  class=\"table_form\">\n",
       "<tbody>\n",
       "<tr>\n",
       "<th><script type=\"math/tex\">k</script></th>\n",
       "<th><script type=\"math/tex\">x_{0}^{(k)}</script></th>\n",
       "<th><script type=\"math/tex\">x_{1}^{(k)}</script></th>\n",
       "<th><script type=\"math/tex\">x_{2}^{(k)}</script></th>\n",
       "<th><script type=\"math/tex\">\\Delta_x^{(k)}</script></th>\n",
       "</tr>\n",
       "<tr class =\"row-a\">\n",
       "<td><script type=\"math/tex\">0</script></td>\n",
       "<td><script type=\"math/tex\">1</script></td>\n",
       "<td><script type=\"math/tex\">1</script></td>\n",
       "<td><script type=\"math/tex\">1</script></td>\n",
       "<td>Undef.</td>\n",
       "</tr>\n",
       "<tr class =\"row-b\">\n",
       "<td><script type=\"math/tex\">1</script></td>\n",
       "<td><script type=\"math/tex\">-0.059691057577</script></td>\n",
       "<td><script type=\"math/tex\">0.0208339190168</script></td>\n",
       "<td><script type=\"math/tex\">0.00389284047465</script></td>\n",
       "<td><script type=\"math/tex\">1.05969105758</script></td>\n",
       "</tr>\n",
       "<tr class =\"row-a\">\n",
       "<td><script type=\"math/tex\">2</script></td>\n",
       "<td><script type=\"math/tex\">-0.0786915427464</script></td>\n",
       "<td><script type=\"math/tex\">0.0305204935638</script></td>\n",
       "<td><script type=\"math/tex\">0.00280379666687</script></td>\n",
       "<td><script type=\"math/tex\">0.0190004851694</script></td>\n",
       "</tr>\n",
       "<tr class =\"row-b\">\n",
       "<td><script type=\"math/tex\">3</script></td>\n",
       "<td><script type=\"math/tex\">-0.0788414338407</script></td>\n",
       "<td><script type=\"math/tex\">0.0305328779051</script></td>\n",
       "<td><script type=\"math/tex\">0.00279596876896</script></td>\n",
       "<td><script type=\"math/tex\">0.000149891094297</script></td>\n",
       "</tr>\n",
       "<tr class =\"row-a\">\n",
       "<td><script type=\"math/tex\">4</script></td>\n",
       "<td><script type=\"math/tex\">-0.0788418241662</script></td>\n",
       "<td><script type=\"math/tex\">0.0305329573757</script></td>\n",
       "<td><script type=\"math/tex\">0.00279594782169</script></td>\n",
       "<td><script type=\"math/tex\">3.9032546334 \\times 10^{-07}</script></td>\n",
       "</tr>\n",
       "</tbody>\n",
       "</table>\n",
       "</div>"
      ],
      "text/plain": [
       "<div class=\"notruncate\">\n",
       "<table  class=\"table_form\">\n",
       "<tbody>\n",
       "<tr>\n",
       "<th><script type=\"math/tex\">k</script></th>\n",
       "<th><script type=\"math/tex\">x_{0}^{(k)}</script></th>\n",
       "<th><script type=\"math/tex\">x_{1}^{(k)}</script></th>\n",
       "<th><script type=\"math/tex\">x_{2}^{(k)}</script></th>\n",
       "<th><script type=\"math/tex\">\\Delta_x^{(k)}</script></th>\n",
       "</tr>\n",
       "<tr class =\"row-a\">\n",
       "<td><script type=\"math/tex\">0</script></td>\n",
       "<td><script type=\"math/tex\">1</script></td>\n",
       "<td><script type=\"math/tex\">1</script></td>\n",
       "<td><script type=\"math/tex\">1</script></td>\n",
       "<td>Undef.</td>\n",
       "</tr>\n",
       "<tr class =\"row-b\">\n",
       "<td><script type=\"math/tex\">1</script></td>\n",
       "<td><script type=\"math/tex\">-0.059691057577</script></td>\n",
       "<td><script type=\"math/tex\">0.0208339190168</script></td>\n",
       "<td><script type=\"math/tex\">0.00389284047465</script></td>\n",
       "<td><script type=\"math/tex\">1.05969105758</script></td>\n",
       "</tr>\n",
       "<tr class =\"row-a\">\n",
       "<td><script type=\"math/tex\">2</script></td>\n",
       "<td><script type=\"math/tex\">-0.0786915427464</script></td>\n",
       "<td><script type=\"math/tex\">0.0305204935638</script></td>\n",
       "<td><script type=\"math/tex\">0.00280379666687</script></td>\n",
       "<td><script type=\"math/tex\">0.0190004851694</script></td>\n",
       "</tr>\n",
       "<tr class =\"row-b\">\n",
       "<td><script type=\"math/tex\">3</script></td>\n",
       "<td><script type=\"math/tex\">-0.0788414338407</script></td>\n",
       "<td><script type=\"math/tex\">0.0305328779051</script></td>\n",
       "<td><script type=\"math/tex\">0.00279596876896</script></td>\n",
       "<td><script type=\"math/tex\">0.000149891094297</script></td>\n",
       "</tr>\n",
       "<tr class =\"row-a\">\n",
       "<td><script type=\"math/tex\">4</script></td>\n",
       "<td><script type=\"math/tex\">-0.0788418241662</script></td>\n",
       "<td><script type=\"math/tex\">0.0305329573757</script></td>\n",
       "<td><script type=\"math/tex\">0.00279594782169</script></td>\n",
       "<td><script type=\"math/tex\">3.9032546334 \\times 10^{-07}</script></td>\n",
       "</tr>\n",
       "</tbody>\n",
       "</table>\n",
       "</div>"
      ]
     },
     "metadata": {},
     "output_type": "display_data"
    },
    {
     "data": {
      "text/html": [
       "<html><script type=\"math/tex; mode=display\">\\newcommand{\\Bold}[1]{\\mathbf{#1}}\\mathbf{x}^*= \\left(-0.0788418241662,\\,0.0305329573757,\\,0.00279594782169\\right)</script></html>"
      ],
      "text/plain": [
       "\\mathbf{x}^*= \\left(-0.0788418241662,\\,0.0305329573757,\\,0.00279594782169\\right)"
      ]
     },
     "metadata": {},
     "output_type": "display_data"
    }
   ],
   "source": [
    "D = copy(A)\n",
    "for i in range(D.nrows()):\n",
    "    D[i, i] *= 10\n",
    "show(D)\n",
    "x_star = solve_fixed_point(D, b, vector([1, 1, 1]), method='nekrasov', max_iter=100, verbose=True)\n",
    "if x_star is not False:\n",
    "    show('\\mathbf{x}^*=' + latex(x_star))"
   ]
  },
  {
   "cell_type": "code",
   "execution_count": 93,
   "metadata": {
    "collapsed": false
   },
   "outputs": [
    {
     "data": {
      "text/html": [
       "<html><script type=\"math/tex; mode=display\">\\newcommand{\\Bold}[1]{\\mathbf{#1}}\\left(\\begin{array}{rrr}\n",
       "962.48355 & 1.1552729 & -2.9715372 \\\\\n",
       "1.01552729 & 730.89145 & 0.69137937 \\\\\n",
       "-2.9715372 & 0.69137937 & 579.93761\n",
       "\\end{array}\\right)</script></html>"
      ],
      "text/plain": [
       "[962.4835499999999         1.1552729        -2.9715372]\n",
       "[       1.01552729 730.8914500000001        0.69137937]\n",
       "[       -2.9715372        0.69137937         579.93761]"
      ]
     },
     "metadata": {},
     "output_type": "display_data"
    },
    {
     "data": {
      "text/html": [
       "<html><script type=\"math/tex; mode=display\">\\newcommand{\\Bold}[1]{\\mathbf{#1}}\\mathbf{B}= \\left(\\begin{array}{rrr}\n",
       "0.0 & -0.00120030404675 & 0.00308736414248 \\\\\n",
       "-0.00138943654355 & 0.0 & -0.000945939879308 \\\\\n",
       "0.00512389117167 & -0.00119216163615 & 0.0\n",
       "\\end{array}\\right)</script></html>"
      ],
      "text/plain": [
       "\\mathbf{B}= \\left(\\begin{array}{rrr}\n",
       "0.0 & -0.00120030404675 & 0.00308736414248 \\\\\n",
       "-0.00138943654355 & 0.0 & -0.000945939879308 \\\\\n",
       "0.00512389117167 & -0.00119216163615 & 0.0\n",
       "\\end{array}\\right)"
      ]
     },
     "metadata": {},
     "output_type": "display_data"
    },
    {
     "data": {
      "text/html": [
       "Fixed-point iteration with <script type=\"math/tex\">\\epsilon=</script> 1/1000000, max_iter = 100"
      ],
      "text/plain": [
       "Fixed-point iteration with <script type=\"math/tex\">\\epsilon=</script> 1/1000000, max_iter = 100"
      ]
     },
     "metadata": {},
     "output_type": "display_data"
    },
    {
     "name": "stdout",
     "output_type": "stream",
     "text": [
      "Converged in 4 iterations.\n"
     ]
    },
    {
     "data": {
      "text/html": [
       "<div class=\"notruncate\">\n",
       "<table  class=\"table_form\">\n",
       "<tbody>\n",
       "<tr>\n",
       "<th><script type=\"math/tex\">k</script></th>\n",
       "<th><script type=\"math/tex\">x_{0}^{(k)}</script></th>\n",
       "<th><script type=\"math/tex\">x_{1}^{(k)}</script></th>\n",
       "<th><script type=\"math/tex\">x_{2}^{(k)}</script></th>\n",
       "<th><script type=\"math/tex\">\\Delta_x^{(k)}</script></th>\n",
       "</tr>\n",
       "<tr class =\"row-a\">\n",
       "<td><script type=\"math/tex\">0</script></td>\n",
       "<td><script type=\"math/tex\">1</script></td>\n",
       "<td><script type=\"math/tex\">1</script></td>\n",
       "<td><script type=\"math/tex\">1</script></td>\n",
       "<td>Undef.</td>\n",
       "</tr>\n",
       "<tr class =\"row-b\">\n",
       "<td><script type=\"math/tex\">1</script></td>\n",
       "<td><script type=\"math/tex\">-0.0059691057577</script></td>\n",
       "<td><script type=\"math/tex\">0.00200874865863</script></td>\n",
       "<td><script type=\"math/tex\">0.000686992128012</script></td>\n",
       "<td><script type=\"math/tex\">1.00596910576</script></td>\n",
       "</tr>\n",
       "<tr class =\"row-a\">\n",
       "<td><script type=\"math/tex\">2</script></td>\n",
       "<td><script type=\"math/tex\">-0.00785645596771</script></td>\n",
       "<td><script type=\"math/tex\">0.00295666103804</script></td>\n",
       "<td><script type=\"math/tex\">0.00067619148616</script></td>\n",
       "<td><script type=\"math/tex\">0.00188735021001</script></td>\n",
       "</tr>\n",
       "<tr class =\"row-b\">\n",
       "<td><script type=\"math/tex\">3</script></td>\n",
       "<td><script type=\"math/tex\">-0.00785762709629</script></td>\n",
       "<td><script type=\"math/tex\">0.00295667288201</script></td>\n",
       "<td><script type=\"math/tex\">0.000676185471305</script></td>\n",
       "<td><script type=\"math/tex\">1.17112857934 \\times 10^{-06}</script></td>\n",
       "</tr>\n",
       "<tr class =\"row-a\">\n",
       "<td><script type=\"math/tex\">4</script></td>\n",
       "<td><script type=\"math/tex\">-0.00785762712908</script></td>\n",
       "<td><script type=\"math/tex\">0.00295667288774</script></td>\n",
       "<td><script type=\"math/tex\">0.00067618547113</script></td>\n",
       "<td><script type=\"math/tex\">3.27864090044 \\times 10^{-11}</script></td>\n",
       "</tr>\n",
       "</tbody>\n",
       "</table>\n",
       "</div>"
      ],
      "text/plain": [
       "<div class=\"notruncate\">\n",
       "<table  class=\"table_form\">\n",
       "<tbody>\n",
       "<tr>\n",
       "<th><script type=\"math/tex\">k</script></th>\n",
       "<th><script type=\"math/tex\">x_{0}^{(k)}</script></th>\n",
       "<th><script type=\"math/tex\">x_{1}^{(k)}</script></th>\n",
       "<th><script type=\"math/tex\">x_{2}^{(k)}</script></th>\n",
       "<th><script type=\"math/tex\">\\Delta_x^{(k)}</script></th>\n",
       "</tr>\n",
       "<tr class =\"row-a\">\n",
       "<td><script type=\"math/tex\">0</script></td>\n",
       "<td><script type=\"math/tex\">1</script></td>\n",
       "<td><script type=\"math/tex\">1</script></td>\n",
       "<td><script type=\"math/tex\">1</script></td>\n",
       "<td>Undef.</td>\n",
       "</tr>\n",
       "<tr class =\"row-b\">\n",
       "<td><script type=\"math/tex\">1</script></td>\n",
       "<td><script type=\"math/tex\">-0.0059691057577</script></td>\n",
       "<td><script type=\"math/tex\">0.00200874865863</script></td>\n",
       "<td><script type=\"math/tex\">0.000686992128012</script></td>\n",
       "<td><script type=\"math/tex\">1.00596910576</script></td>\n",
       "</tr>\n",
       "<tr class =\"row-a\">\n",
       "<td><script type=\"math/tex\">2</script></td>\n",
       "<td><script type=\"math/tex\">-0.00785645596771</script></td>\n",
       "<td><script type=\"math/tex\">0.00295666103804</script></td>\n",
       "<td><script type=\"math/tex\">0.00067619148616</script></td>\n",
       "<td><script type=\"math/tex\">0.00188735021001</script></td>\n",
       "</tr>\n",
       "<tr class =\"row-b\">\n",
       "<td><script type=\"math/tex\">3</script></td>\n",
       "<td><script type=\"math/tex\">-0.00785762709629</script></td>\n",
       "<td><script type=\"math/tex\">0.00295667288201</script></td>\n",
       "<td><script type=\"math/tex\">0.000676185471305</script></td>\n",
       "<td><script type=\"math/tex\">1.17112857934 \\times 10^{-06}</script></td>\n",
       "</tr>\n",
       "<tr class =\"row-a\">\n",
       "<td><script type=\"math/tex\">4</script></td>\n",
       "<td><script type=\"math/tex\">-0.00785762712908</script></td>\n",
       "<td><script type=\"math/tex\">0.00295667288774</script></td>\n",
       "<td><script type=\"math/tex\">0.00067618547113</script></td>\n",
       "<td><script type=\"math/tex\">3.27864090044 \\times 10^{-11}</script></td>\n",
       "</tr>\n",
       "</tbody>\n",
       "</table>\n",
       "</div>"
      ]
     },
     "metadata": {},
     "output_type": "display_data"
    },
    {
     "data": {
      "text/html": [
       "<html><script type=\"math/tex; mode=display\">\\newcommand{\\Bold}[1]{\\mathbf{#1}}\\mathbf{x}^*= \\left(-0.00785762712908,\\,0.00295667288774,\\,0.00067618547113\\right)</script></html>"
      ],
      "text/plain": [
       "\\mathbf{x}^*= \\left(-0.00785762712908,\\,0.00295667288774,\\,0.00067618547113\\right)"
      ]
     },
     "metadata": {},
     "output_type": "display_data"
    }
   ],
   "source": [
    "D = copy(A)\n",
    "for i in range(D.nrows()):\n",
    "    D[i, i] *= 100\n",
    "show(D)\n",
    "x_star = solve_fixed_point(D, b, vector([1, 1, 1]), method='nekrasov', max_iter=100, verbose=True)\n",
    "if x_star is not False:\n",
    "    show('\\mathbf{x}^*=' + latex(x_star))"
   ]
  },
  {
   "cell_type": "code",
   "execution_count": null,
   "metadata": {
    "collapsed": true
   },
   "outputs": [],
   "source": []
  }
 ],
 "metadata": {
  "kernelspec": {
   "display_name": "SageMath 7.2",
   "language": "",
   "name": "sagemath"
  },
  "language_info": {
   "codemirror_mode": {
    "name": "ipython",
    "version": 2
   },
   "file_extension": ".py",
   "mimetype": "text/x-python",
   "name": "python",
   "nbconvert_exporter": "python",
   "pygments_lexer": "ipython2",
   "version": "2.7.10"
  }
 },
 "nbformat": 4,
 "nbformat_minor": 0
}
