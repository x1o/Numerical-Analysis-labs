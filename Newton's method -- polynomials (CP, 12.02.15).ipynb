{
 "cells": [
  {
   "cell_type": "markdown",
   "metadata": {},
   "source": [
    "<h1>Newton's method -- polynomials</h1>\n",
    "<h2>Code</h2>"
   ]
  },
  {
   "cell_type": "code",
   "execution_count": 3,
   "metadata": {
    "collapsed": false
   },
   "outputs": [],
   "source": [
    "var('x, z')\n",
    "\n",
    "def find_m(P):\n",
    "    for coef, deg in reversed(P.coeffs()):\n",
    "        if coef < 0:\n",
    "            return P.degree(P.variables()[0]) - deg\n",
    "    return None\n",
    "\n",
    "def find_bound(P):\n",
    "    if P.coeffs()[-1][0] < 0:\n",
    "        P = -P\n",
    "    m = find_m(P)\n",
    "    if m is None:\n",
    "        return None\n",
    "    else:\n",
    "        a0 = P.coeffs()[-1][0]\n",
    "        a = max([abs(coef) for (coef, deg) in P.coeffs() if coef < 0])\n",
    "        return 1 + (a / a0)^(1/m)\n",
    "\n",
    "def find_root_bounds(P):\n",
    "    bounds = []\n",
    "    for subst in (-z, -1/z, 1/z, z):\n",
    "        bound = find_bound(P(subst))\n",
    "        if bound is not None:\n",
    "            bounds.append(subst(z=bound))\n",
    "    return zip(bounds[::2], bounds[1::2])\n",
    "\n",
    "def find_altern_interval(P, I, step=0.1):\n",
    "    # Assuming the function intersects the interval in at most one point\n",
    "    # (including both endpoints)\n",
    "    intervals = []\n",
    "    cur = I[0]\n",
    "    while cur <= I[1]:\n",
    "        a = cur\n",
    "        b = cur+step\n",
    "        if P(a) * P(b) < 0:\n",
    "            intervals.append((a, b))\n",
    "        elif P(a) == 0:\n",
    "            intervals.append((a-step, b))\n",
    "        cur += step\n",
    "    return intervals\n",
    "\n",
    "def find_roots_newton(P, x, iter=0, max_iter=30, eps=10e-6, verbose=False):\n",
    "    if verbose:\n",
    "        html('%s\\t%s\\t%s' % (iter, x, P(x)))\n",
    "    x_next = x - P(x) / diff(P)(x)\n",
    "    if iter == max_iter:\n",
    "        print('WARNING: max_iter reached (%s)' % max_iter)\n",
    "        return x_next\n",
    "    elif abs(x - x_next) <= eps:\n",
    "        return x_next\n",
    "    else:\n",
    "        return find_roots_newton(P, x_next, iter+1, verbose=verbose)\n",
    "\n",
    "def find_roots(P, step=0.1, bounds=False, verbose=False):\n",
    "    if verbose:\n",
    "        html('Finding the roots of')\n",
    "        show(P)\n",
    "    roots = []\n",
    "    if not bounds:\n",
    "        bounds = find_root_bounds(P)\n",
    "    if verbose:\n",
    "        html('Root bounds:')\n",
    "        show(bounds)\n",
    "        html('Graph of the function at the interval given by the root bounds:')\n",
    "        plot(P, bounds[0][0], bounds[-1][-1], figsize=6).show()\n",
    "    for I in bounds:\n",
    "        for J in find_altern_interval(P, I, step):\n",
    "            x0 = J[0] + (J[1] - J[0]) / 2\n",
    "            if verbose:\n",
    "                html('Running Newton\\'s algorithm on')\n",
    "                show(J)\n",
    "            roots.append(find_roots_newton(P, x0, verbose=verbose))\n",
    "            if verbose:\n",
    "                html('')\n",
    "    if verbose:\n",
    "        if roots:\n",
    "            html('Roots found:')\n",
    "            show(roots)\n",
    "            html('Roots calculated by Sage:')\n",
    "            try:\n",
    "#                show([[r.n() for r in tup] for tup in P.roots()])\n",
    "                show(P.roots())\n",
    "            except RuntimeError:\n",
    "                show('None')\n",
    "    return roots"
   ]
  },
  {
   "cell_type": "markdown",
   "metadata": {},
   "source": [
    "<h2>Tests</h2>"
   ]
  },
  {
   "cell_type": "code",
   "execution_count": 4,
   "metadata": {
    "collapsed": false
   },
   "outputs": [],
   "source": [
    "#P(x) = 9*x^4 - 9*x^2 - 36*x + 1\n",
    "#\n",
    "#assert(find_m(P) == 2)\n",
    "#assert(find_bound(P) == 3)\n",
    "#assert(find_m(P(x=1/z)) == 1)\n",
    "#assert(find_bound(P(x=1/z)) == 37)\n",
    "#assert(find_m(P(x=-z)) == 2)\n",
    "#assert(find_bound(P(x=-z)) == 2)\n",
    "#assert(find_m(P(x=-1/z)) == 2)\n",
    "#assert(find_bound(P(x=-1/z)) == 4)\n",
    "##print(find_root_bounds(P))\n",
    "#\n",
    "#bounds = find_root_bounds(P)\n",
    "#intervals = find_altern_interval(P, bounds[1], step=0.5)\n",
    "#assert([(round(a, 5), round(b, 5)) for (a, b) in intervals] == [(0.02703, 0.52703), (1.52703, 2.02703)])\n",
    "#\n",
    "#root = find_roots_newton(P, 1.6, max_iter=20, eps=10e-6)\n",
    "#assert(round(root, 5) == 1.78914)\n",
    "#\n",
    "#roots = find_roots(P, verbose=True)\n",
    "#assert([round(r, 5) for r in roots] == [0.02759, 1.78914])\n",
    "#\n",
    "##plot(P, bounds[0][0], bounds[-1][-1])"
   ]
  },
  {
   "cell_type": "markdown",
   "metadata": {},
   "source": [
    "<h2>Solutions For The Given Equations</h2>\n",
    "\n",
    "<p>$$ P(x) = x^3 - 2.25x^2 - 0.25x + 1.5 $$</p>"
   ]
  },
  {
   "cell_type": "code",
   "execution_count": 5,
   "metadata": {
    "collapsed": false
   },
   "outputs": [
    {
     "data": {
      "text/html": [
       "Finding the roots of"
      ],
      "text/plain": [
       "Finding the roots of"
      ]
     },
     "metadata": {},
     "output_type": "display_data"
    },
    {
     "name": "stderr",
     "output_type": "stream",
     "text": [
      "/usr/lib/sagemath/local/lib/python2.7/site-packages/sage/repl/ipython_kernel/__main__.py:57: DeprecationWarning:  html(...) will change soon to return HTML instead of printing it. Instead use pretty_print(html(...)) for strings or just pretty_print(...) for math. \n",
      "See http://trac.sagemath.org/18292 for details.\n"
     ]
    },
    {
     "data": {
      "text/html": [
       "<html><script type=\"math/tex; mode=display\">\\newcommand{\\Bold}[1]{\\mathbf{#1}}x \\ {\\mapsto}\\ x^{3} - 2.25000000000000 \\, x^{2} - 0.250000000000000 \\, x + 1.50000000000000</script></html>"
      ],
      "text/plain": [
       "x |--> x^3 - 2.25000000000000*x^2 - 0.250000000000000*x + 1.50000000000000"
      ]
     },
     "metadata": {},
     "output_type": "display_data"
    },
    {
     "name": "stderr",
     "output_type": "stream",
     "text": [
      "/usr/lib/sagemath/local/lib/python2.7/site-packages/sage/repl/ipython_kernel/__main__.py:10: DeprecationWarning: coeffs is deprecated. Please use coefficients instead.\n",
      "See http://trac.sagemath.org/17438 for details.\n",
      "/usr/lib/sagemath/local/lib/python2.7/site-packages/sage/repl/ipython_kernel/__main__.py:4: DeprecationWarning: coeffs is deprecated. Please use coefficients instead.\n",
      "See http://trac.sagemath.org/17438 for details.\n",
      "/usr/lib/sagemath/local/lib/python2.7/site-packages/sage/repl/ipython_kernel/__main__.py:16: DeprecationWarning: coeffs is deprecated. Please use coefficients instead.\n",
      "See http://trac.sagemath.org/17438 for details.\n",
      "/usr/lib/sagemath/local/lib/python2.7/site-packages/sage/repl/ipython_kernel/__main__.py:17: DeprecationWarning: coeffs is deprecated. Please use coefficients instead.\n",
      "See http://trac.sagemath.org/17438 for details.\n"
     ]
    },
    {
     "data": {
      "text/html": [
       "Root bounds:"
      ],
      "text/plain": [
       "Root bounds:"
      ]
     },
     "metadata": {},
     "output_type": "display_data"
    },
    {
     "name": "stderr",
     "output_type": "stream",
     "text": [
      "/usr/lib/sagemath/local/lib/python2.7/site-packages/sage/repl/ipython_kernel/__main__.py:63: DeprecationWarning:  html(...) will change soon to return HTML instead of printing it. Instead use pretty_print(html(...)) for strings or just pretty_print(...) for math. \n",
      "See http://trac.sagemath.org/18292 for details.\n"
     ]
    },
    {
     "data": {
      "text/html": [
       "<html><script type=\"math/tex; mode=display\">\\newcommand{\\Bold}[1]{\\mathbf{#1}}\\left[\\left(-2.22474487139, -0.449489742783\\right), \\left(0.4, 3.25\\right)\\right]</script></html>"
      ],
      "text/plain": [
       "[(-2.224744871391589, -0.4494897427831781), (0.4, 3.25)]"
      ]
     },
     "metadata": {},
     "output_type": "display_data"
    },
    {
     "data": {
      "text/html": [
       "Graph of the function at the interval given by the root bounds:"
      ],
      "text/plain": [
       "Graph of the function at the interval given by the root bounds:"
      ]
     },
     "metadata": {},
     "output_type": "display_data"
    },
    {
     "name": "stderr",
     "output_type": "stream",
     "text": [
      "/usr/lib/sagemath/local/lib/python2.7/site-packages/sage/repl/ipython_kernel/__main__.py:65: DeprecationWarning:  html(...) will change soon to return HTML instead of printing it. Instead use pretty_print(html(...)) for strings or just pretty_print(...) for math. \n",
      "See http://trac.sagemath.org/18292 for details.\n"
     ]
    },
    {
     "data": {
      "image/png": "[encoded data removed]",
      "text/plain": [
       "Graphics object consisting of 1 graphics primitive"
      ]
     },
     "metadata": {},
     "output_type": "display_data"
    },
    {
     "data": {
      "text/html": [
       "Running Newton's algorithm on"
      ],
      "text/plain": [
       "Running Newton's algorithm on"
      ]
     },
     "metadata": {},
     "output_type": "display_data"
    },
    {
     "name": "stderr",
     "output_type": "stream",
     "text": [
      "/usr/lib/sagemath/local/lib/python2.7/site-packages/sage/repl/ipython_kernel/__main__.py:71: DeprecationWarning:  html(...) will change soon to return HTML instead of printing it. Instead use pretty_print(html(...)) for strings or just pretty_print(...) for math. \n",
      "See http://trac.sagemath.org/18292 for details.\n"
     ]
    },
    {
     "data": {
      "text/html": [
       "<html><script type=\"math/tex; mode=display\">\\newcommand{\\Bold}[1]{\\mathbf{#1}}\\left(-0.824744871392, -0.724744871392\\right)</script></html>"
      ],
      "text/plain": [
       "(-0.8247448713915879, -0.7247448713915879)"
      ]
     },
     "metadata": {},
     "output_type": "display_data"
    },
    {
     "data": {
      "text/html": [
       "0\t-0.7747448713915879\t-0.121855234041903"
      ],
      "text/plain": [
       "0\t-0.7747448713915879\t-0.121855234041903"
      ]
     },
     "metadata": {},
     "output_type": "display_data"
    },
    {
     "name": "stderr",
     "output_type": "stream",
     "text": [
      "/usr/lib/sagemath/local/lib/python2.7/site-packages/sage/repl/ipython_kernel/__main__.py:45: DeprecationWarning:  html(...) will change soon to return HTML instead of printing it. Instead use pretty_print(html(...)) for strings or just pretty_print(...) for math. \n",
      "See http://trac.sagemath.org/18292 for details.\n"
     ]
    },
    {
     "data": {
      "text/html": [
       "1\t-0.7505530413782538\t-0.00266288814844423"
      ],
      "text/plain": [
       "1\t-0.7505530413782538\t-0.00266288814844423"
      ]
     },
     "metadata": {},
     "output_type": "display_data"
    },
    {
     "data": {
      "text/html": [
       "2\t-0.7500002857687498\t-1.37526247584452e-6"
      ],
      "text/plain": [
       "2\t-0.7500002857687498\t-1.37526247584452e-6"
      ]
     },
     "metadata": {},
     "output_type": "display_data"
    },
    {
     "data": {
      "text/html": [],
      "text/plain": []
     },
     "metadata": {},
     "output_type": "display_data"
    },
    {
     "name": "stderr",
     "output_type": "stream",
     "text": [
      "/usr/lib/sagemath/local/lib/python2.7/site-packages/sage/repl/ipython_kernel/__main__.py:75: DeprecationWarning:  html(...) will change soon to return HTML instead of printing it. Instead use pretty_print(html(...)) for strings or just pretty_print(...) for math. \n",
      "See http://trac.sagemath.org/18292 for details.\n"
     ]
    },
    {
     "data": {
      "text/html": [
       "Running Newton's algorithm on"
      ],
      "text/plain": [
       "Running Newton's algorithm on"
      ]
     },
     "metadata": {},
     "output_type": "display_data"
    },
    {
     "data": {
      "text/html": [
       "<html><script type=\"math/tex; mode=display\">\\newcommand{\\Bold}[1]{\\mathbf{#1}}\\left(1.0, 1.1\\right)</script></html>"
      ],
      "text/plain": [
       "(0.9999999999999999, 1.0999999999999999)"
      ]
     },
     "metadata": {},
     "output_type": "display_data"
    },
    {
     "data": {
      "text/html": [
       "0\t1.0499999999999998\t-0.0854999999999995"
      ],
      "text/plain": [
       "0\t1.0499999999999998\t-0.0854999999999995"
      ]
     },
     "metadata": {},
     "output_type": "display_data"
    },
    {
     "data": {
      "text/html": [
       "1\t0.9987256371814095\t0.00223135086341253"
      ],
      "text/plain": [
       "1\t0.9987256371814095\t0.00223135086341253"
      ]
     },
     "metadata": {},
     "output_type": "display_data"
    },
    {
     "data": {
      "text/html": [
       "2\t0.9999993071198756\t1.21254057772191e-6"
      ],
      "text/plain": [
       "2\t0.9999993071198756\t1.21254057772191e-6"
      ]
     },
     "metadata": {},
     "output_type": "display_data"
    },
    {
     "data": {
      "text/html": [],
      "text/plain": []
     },
     "metadata": {},
     "output_type": "display_data"
    },
    {
     "data": {
      "text/html": [
       "Running Newton's algorithm on"
      ],
      "text/plain": [
       "Running Newton's algorithm on"
      ]
     },
     "metadata": {},
     "output_type": "display_data"
    },
    {
     "data": {
      "text/html": [
       "<html><script type=\"math/tex; mode=display\">\\newcommand{\\Bold}[1]{\\mathbf{#1}}\\left(1.9, 2.0\\right)</script></html>"
      ],
      "text/plain": [
       "(1.9000000000000006, 2.0000000000000004)"
      ]
     },
     "metadata": {},
     "output_type": "display_data"
    },
    {
     "data": {
      "text/html": [
       "0\t1.9500000000000006\t-0.128250000000000"
      ],
      "text/plain": [
       "0\t1.9500000000000006\t-0.128250000000000"
      ]
     },
     "metadata": {},
     "output_type": "display_data"
    },
    {
     "data": {
      "text/html": [
       "1\t2.00383001049318\t0.0105875937150088"
      ],
      "text/plain": [
       "1\t2.00383001049318\t0.0105875937150088"
      ]
     },
     "metadata": {},
     "output_type": "display_data"
    },
    {
     "data": {
      "text/html": [
       "2\t2.000019836495735\t0.0000545518388523902"
      ],
      "text/plain": [
       "2\t2.000019836495735\t0.0000545518388523902"
      ]
     },
     "metadata": {},
     "output_type": "display_data"
    },
    {
     "data": {
      "text/html": [
       "3\t2.0000000005365495\t1.47551126872258e-9"
      ],
      "text/plain": [
       "3\t2.0000000005365495\t1.47551126872258e-9"
      ]
     },
     "metadata": {},
     "output_type": "display_data"
    },
    {
     "data": {
      "text/html": [],
      "text/plain": []
     },
     "metadata": {},
     "output_type": "display_data"
    },
    {
     "data": {
      "text/html": [
       "Roots found:"
      ],
      "text/plain": [
       "Roots found:"
      ]
     },
     "metadata": {},
     "output_type": "display_data"
    },
    {
     "name": "stderr",
     "output_type": "stream",
     "text": [
      "/usr/lib/sagemath/local/lib/python2.7/site-packages/sage/repl/ipython_kernel/__main__.py:78: DeprecationWarning:  html(...) will change soon to return HTML instead of printing it. Instead use pretty_print(html(...)) for strings or just pretty_print(...) for math. \n",
      "See http://trac.sagemath.org/18292 for details.\n"
     ]
    },
    {
     "data": {
      "text/html": [
       "<html><script type=\"math/tex; mode=display\">\\newcommand{\\Bold}[1]{\\mathbf{#1}}\\left[-0.75, 1.0, 2.0\\right]</script></html>"
      ],
      "text/plain": [
       "[-0.7500000000000764, 0.9999999999997943, 2.0]"
      ]
     },
     "metadata": {},
     "output_type": "display_data"
    },
    {
     "data": {
      "text/html": [
       "Roots calculated by Sage:"
      ],
      "text/plain": [
       "Roots calculated by Sage:"
      ]
     },
     "metadata": {},
     "output_type": "display_data"
    },
    {
     "name": "stderr",
     "output_type": "stream",
     "text": [
      "/usr/lib/sagemath/local/lib/python2.7/site-packages/sage/repl/ipython_kernel/__main__.py:80: DeprecationWarning:  html(...) will change soon to return HTML instead of printing it. Instead use pretty_print(html(...)) for strings or just pretty_print(...) for math. \n",
      "See http://trac.sagemath.org/18292 for details.\n"
     ]
    },
    {
     "data": {
      "text/html": [
       "<html><script type=\"math/tex; mode=display\">\\newcommand{\\Bold}[1]{\\mathbf{#1}}\\left[\\left(1, 1\\right), \\left(2, 1\\right), \\left(-\\frac{3}{4}, 1\\right)\\right]</script></html>"
      ],
      "text/plain": [
       "[(1, 1), (2, 1), (-3/4, 1)]"
      ]
     },
     "metadata": {},
     "output_type": "display_data"
    },
    {
     "data": {
      "text/plain": [
       "[-0.7500000000000764, 0.9999999999997943, 2.0]"
      ]
     },
     "execution_count": 5,
     "metadata": {},
     "output_type": "execute_result"
    }
   ],
   "source": [
    "P(x) = x^3 - 2.25*x^2 - 0.25*x + 1.5\n",
    "find_roots(P, verbose=True)"
   ]
  },
  {
   "cell_type": "markdown",
   "metadata": {},
   "source": [
    "<p>$$ P(x) = x^4 - 2.9x^3 + 0.1x^2 + 5.8x - 4.2 $$</p>"
   ]
  },
  {
   "cell_type": "code",
   "execution_count": 6,
   "metadata": {
    "collapsed": false
   },
   "outputs": [
    {
     "data": {
      "text/html": [
       "Finding the roots of"
      ],
      "text/plain": [
       "Finding the roots of"
      ]
     },
     "metadata": {},
     "output_type": "display_data"
    },
    {
     "name": "stderr",
     "output_type": "stream",
     "text": [
      "/usr/lib/sagemath/local/lib/python2.7/site-packages/sage/repl/ipython_kernel/__main__.py:57: DeprecationWarning:  html(...) will change soon to return HTML instead of printing it. Instead use pretty_print(html(...)) for strings or just pretty_print(...) for math. \n",
      "See http://trac.sagemath.org/18292 for details.\n"
     ]
    },
    {
     "data": {
      "text/html": [
       "<html><script type=\"math/tex; mode=display\">\\newcommand{\\Bold}[1]{\\mathbf{#1}}x \\ {\\mapsto}\\ x^{4} - 2.90000000000000 \\, x^{3} + 0.100000000000000 \\, x^{2} + 5.80000000000000 \\, x - 4.20000000000000</script></html>"
      ],
      "text/plain": [
       "x |--> x^4 - 2.90000000000000*x^3 + 0.100000000000000*x^2 + 5.80000000000000*x - 4.20000000000000"
      ]
     },
     "metadata": {},
     "output_type": "display_data"
    },
    {
     "name": "stderr",
     "output_type": "stream",
     "text": [
      "/usr/lib/sagemath/local/lib/python2.7/site-packages/sage/repl/ipython_kernel/__main__.py:10: DeprecationWarning: coeffs is deprecated. Please use coefficients instead.\n",
      "See http://trac.sagemath.org/17438 for details.\n",
      "/usr/lib/sagemath/local/lib/python2.7/site-packages/sage/repl/ipython_kernel/__main__.py:4: DeprecationWarning: coeffs is deprecated. Please use coefficients instead.\n",
      "See http://trac.sagemath.org/17438 for details.\n",
      "/usr/lib/sagemath/local/lib/python2.7/site-packages/sage/repl/ipython_kernel/__main__.py:16: DeprecationWarning: coeffs is deprecated. Please use coefficients instead.\n",
      "See http://trac.sagemath.org/17438 for details.\n",
      "/usr/lib/sagemath/local/lib/python2.7/site-packages/sage/repl/ipython_kernel/__main__.py:17: DeprecationWarning: coeffs is deprecated. Please use coefficients instead.\n",
      "See http://trac.sagemath.org/17438 for details.\n"
     ]
    },
    {
     "data": {
      "text/html": [
       "Root bounds:"
      ],
      "text/plain": [
       "Root bounds:"
      ]
     },
     "metadata": {},
     "output_type": "display_data"
    },
    {
     "name": "stderr",
     "output_type": "stream",
     "text": [
      "/usr/lib/sagemath/local/lib/python2.7/site-packages/sage/repl/ipython_kernel/__main__.py:63: DeprecationWarning:  html(...) will change soon to return HTML instead of printing it. Instead use pretty_print(html(...)) for strings or just pretty_print(...) for math. \n",
      "See http://trac.sagemath.org/18292 for details.\n"
     ]
    },
    {
     "data": {
      "text/html": [
       "<html><script type=\"math/tex; mode=display\">\\newcommand{\\Bold}[1]{\\mathbf{#1}}\\left[\\left(-2.79670177914, -0.546164866675\\right), \\left(0.42, 5.2\\right)\\right]</script></html>"
      ],
      "text/plain": [
       "[(-2.796701779143053, -0.5461648666745926), (0.42, 5.2)]"
      ]
     },
     "metadata": {},
     "output_type": "display_data"
    },
    {
     "data": {
      "text/html": [
       "Graph of the function at the interval given by the root bounds:"
      ],
      "text/plain": [
       "Graph of the function at the interval given by the root bounds:"
      ]
     },
     "metadata": {},
     "output_type": "display_data"
    },
    {
     "name": "stderr",
     "output_type": "stream",
     "text": [
      "/usr/lib/sagemath/local/lib/python2.7/site-packages/sage/repl/ipython_kernel/__main__.py:65: DeprecationWarning:  html(...) will change soon to return HTML instead of printing it. Instead use pretty_print(html(...)) for strings or just pretty_print(...) for math. \n",
      "See http://trac.sagemath.org/18292 for details.\n"
     ]
    },
    {
     "data": {
      "image/png": "[encoded data removed]",
      "text/plain": [
       "Graphics object consisting of 1 graphics primitive"
      ]
     },
     "metadata": {},
     "output_type": "display_data"
    },
    {
     "data": {
      "text/html": [
       "Running Newton's algorithm on"
      ],
      "text/plain": [
       "Running Newton's algorithm on"
      ]
     },
     "metadata": {},
     "output_type": "display_data"
    },
    {
     "name": "stderr",
     "output_type": "stream",
     "text": [
      "/usr/lib/sagemath/local/lib/python2.7/site-packages/sage/repl/ipython_kernel/__main__.py:71: DeprecationWarning:  html(...) will change soon to return HTML instead of printing it. Instead use pretty_print(html(...)) for strings or just pretty_print(...) for math. \n",
      "See http://trac.sagemath.org/18292 for details.\n"
     ]
    },
    {
     "data": {
      "text/html": [
       "<html><script type=\"math/tex; mode=display\">\\newcommand{\\Bold}[1]{\\mathbf{#1}}\\left(-1.41670177914, -1.40670177914\\right)</script></html>"
      ],
      "text/plain": [
       "(-1.4167017791430692, -1.4067017791430692)"
      ]
     },
     "metadata": {},
     "output_type": "display_data"
    },
    {
     "data": {
      "text/html": [
       "0\t-1.411701779143069\t-0.0581108798675203"
      ],
      "text/plain": [
       "0\t-1.411701779143069\t-0.0581108798675203"
      ]
     },
     "metadata": {},
     "output_type": "display_data"
    },
    {
     "name": "stderr",
     "output_type": "stream",
     "text": [
      "/usr/lib/sagemath/local/lib/python2.7/site-packages/sage/repl/ipython_kernel/__main__.py:45: DeprecationWarning:  html(...) will change soon to return HTML instead of printing it. Instead use pretty_print(html(...)) for strings or just pretty_print(...) for math. \n",
      "See http://trac.sagemath.org/18292 for details.\n"
     ]
    },
    {
     "data": {
      "text/html": [
       "1\t-1.414220223209614\t0.000154509518134560"
      ],
      "text/plain": [
       "1\t-1.414220223209614\t0.000154509518134560"
      ]
     },
     "metadata": {},
     "output_type": "display_data"
    },
    {
     "data": {
      "text/html": [],
      "text/plain": []
     },
     "metadata": {},
     "output_type": "display_data"
    },
    {
     "name": "stderr",
     "output_type": "stream",
     "text": [
      "/usr/lib/sagemath/local/lib/python2.7/site-packages/sage/repl/ipython_kernel/__main__.py:75: DeprecationWarning:  html(...) will change soon to return HTML instead of printing it. Instead use pretty_print(html(...)) for strings or just pretty_print(...) for math. \n",
      "See http://trac.sagemath.org/18292 for details.\n"
     ]
    },
    {
     "data": {
      "text/html": [
       "Running Newton's algorithm on"
      ],
      "text/plain": [
       "Running Newton's algorithm on"
      ]
     },
     "metadata": {},
     "output_type": "display_data"
    },
    {
     "data": {
      "text/html": [
       "<html><script type=\"math/tex; mode=display\">\\newcommand{\\Bold}[1]{\\mathbf{#1}}\\left(1.39, 1.41\\right)</script></html>"
      ],
      "text/plain": [
       "(1.3900000000000008, 1.4100000000000008)"
      ]
     },
     "metadata": {},
     "output_type": "display_data"
    },
    {
     "data": {
      "text/html": [
       "0\t1.4000000000000008\t0.000000000000000"
      ],
      "text/plain": [
       "0\t1.4000000000000008\t0.000000000000000"
      ]
     },
     "metadata": {},
     "output_type": "display_data"
    },
    {
     "data": {
      "text/html": [],
      "text/plain": []
     },
     "metadata": {},
     "output_type": "display_data"
    },
    {
     "data": {
      "text/html": [
       "Running Newton's algorithm on"
      ],
      "text/plain": [
       "Running Newton's algorithm on"
      ]
     },
     "metadata": {},
     "output_type": "display_data"
    },
    {
     "data": {
      "text/html": [
       "<html><script type=\"math/tex; mode=display\">\\newcommand{\\Bold}[1]{\\mathbf{#1}}\\left(1.41, 1.42\\right)</script></html>"
      ],
      "text/plain": [
       "(1.4100000000000008, 1.4200000000000008)"
      ]
     },
     "metadata": {},
     "output_type": "display_data"
    },
    {
     "data": {
      "text/html": [
       "0\t1.415000000000001\t-2.83687500068908e-6"
      ],
      "text/plain": [
       "0\t1.415000000000001\t-2.83687500068908e-6"
      ]
     },
     "metadata": {},
     "output_type": "display_data"
    },
    {
     "data": {
      "text/html": [
       "1\t1.414246313761773\t-1.13170972149135e-7"
      ],
      "text/plain": [
       "1\t1.414246313761773\t-1.13170972149135e-7"
      ]
     },
     "metadata": {},
     "output_type": "display_data"
    },
    {
     "data": {
      "text/html": [
       "2\t1.4142136254154412\t-2.17420748072072e-10"
      ],
      "text/plain": [
       "2\t1.4142136254154412\t-2.17420748072072e-10"
      ]
     },
     "metadata": {},
     "output_type": "display_data"
    },
    {
     "data": {
      "text/html": [],
      "text/plain": []
     },
     "metadata": {},
     "output_type": "display_data"
    },
    {
     "data": {
      "text/html": [
       "Running Newton's algorithm on"
      ],
      "text/plain": [
       "Running Newton's algorithm on"
      ]
     },
     "metadata": {},
     "output_type": "display_data"
    },
    {
     "data": {
      "text/html": [
       "<html><script type=\"math/tex; mode=display\">\\newcommand{\\Bold}[1]{\\mathbf{#1}}\\left(1.49, 1.51\\right)</script></html>"
      ],
      "text/plain": [
       "(1.4900000000000009, 1.510000000000001)"
      ]
     },
     "metadata": {},
     "output_type": "display_data"
    },
    {
     "data": {
      "text/html": [
       "0\t1.5000000000000009\t0.000000000000000"
      ],
      "text/plain": [
       "0\t1.5000000000000009\t0.000000000000000"
      ]
     },
     "metadata": {},
     "output_type": "display_data"
    },
    {
     "data": {
      "text/html": [],
      "text/plain": []
     },
     "metadata": {},
     "output_type": "display_data"
    },
    {
     "data": {
      "text/html": [
       "Roots found:"
      ],
      "text/plain": [
       "Roots found:"
      ]
     },
     "metadata": {},
     "output_type": "display_data"
    },
    {
     "name": "stderr",
     "output_type": "stream",
     "text": [
      "/usr/lib/sagemath/local/lib/python2.7/site-packages/sage/repl/ipython_kernel/__main__.py:78: DeprecationWarning:  html(...) will change soon to return HTML instead of printing it. Instead use pretty_print(html(...)) for strings or just pretty_print(...) for math. \n",
      "See http://trac.sagemath.org/18292 for details.\n"
     ]
    },
    {
     "data": {
      "text/html": [
       "<html><script type=\"math/tex; mode=display\">\\newcommand{\\Bold}[1]{\\mathbf{#1}}\\left[-1.41421356242, 1.4, 1.41421356237, 1.5\\right]</script></html>"
      ],
      "text/plain": [
       "[-1.41421356241977, 1.4000000000000008, 1.4142135623732666, 1.5000000000000009]"
      ]
     },
     "metadata": {},
     "output_type": "display_data"
    },
    {
     "data": {
      "text/html": [
       "Roots calculated by Sage:"
      ],
      "text/plain": [
       "Roots calculated by Sage:"
      ]
     },
     "metadata": {},
     "output_type": "display_data"
    },
    {
     "name": "stderr",
     "output_type": "stream",
     "text": [
      "/usr/lib/sagemath/local/lib/python2.7/site-packages/sage/repl/ipython_kernel/__main__.py:80: DeprecationWarning:  html(...) will change soon to return HTML instead of printing it. Instead use pretty_print(html(...)) for strings or just pretty_print(...) for math. \n",
      "See http://trac.sagemath.org/18292 for details.\n"
     ]
    },
    {
     "data": {
      "text/html": [
       "<html><script type=\"math/tex; mode=display\">\\newcommand{\\Bold}[1]{\\mathbf{#1}}\\left[\\left(\\frac{3}{2}, 1\\right), \\left(\\frac{7}{5}, 1\\right), \\left(-\\sqrt{2}, 1\\right), \\left(\\sqrt{2}, 1\\right)\\right]</script></html>"
      ],
      "text/plain": [
       "[(3/2, 1), (7/5, 1), (-sqrt(2), 1), (sqrt(2), 1)]"
      ]
     },
     "metadata": {},
     "output_type": "display_data"
    },
    {
     "data": {
      "text/plain": [
       "[-1.41421356241977, 1.4000000000000008, 1.4142135623732666, 1.5000000000000009]"
      ]
     },
     "execution_count": 6,
     "metadata": {},
     "output_type": "execute_result"
    }
   ],
   "source": [
    "P(x) = x^4 - 2.9*x^3 + 0.1*x^2 + 5.8*x - 4.2\n",
    "find_roots(P, step=0.01, verbose=True)"
   ]
  },
  {
   "cell_type": "markdown",
   "metadata": {},
   "source": [
    "<p>$$ P(x) = e^x - 6x - 3 $$</p>"
   ]
  },
  {
   "cell_type": "code",
   "execution_count": 7,
   "metadata": {
    "collapsed": false
   },
   "outputs": [
    {
     "data": {
      "image/png": "[encoded data removed]",
      "text/plain": [
       "Graphics object consisting of 1 graphics primitive"
      ]
     },
     "metadata": {},
     "output_type": "display_data"
    },
    {
     "data": {
      "image/png": "[encoded data removed]",
      "text/plain": [
       "Graphics object consisting of 2 graphics primitives"
      ]
     },
     "metadata": {},
     "output_type": "display_data"
    },
    {
     "data": {
      "text/html": [
       "Finding the roots of"
      ],
      "text/plain": [
       "Finding the roots of"
      ]
     },
     "metadata": {},
     "output_type": "display_data"
    },
    {
     "name": "stderr",
     "output_type": "stream",
     "text": [
      "/usr/lib/sagemath/local/lib/python2.7/site-packages/sage/repl/ipython_kernel/__main__.py:57: DeprecationWarning:  html(...) will change soon to return HTML instead of printing it. Instead use pretty_print(html(...)) for strings or just pretty_print(...) for math. \n",
      "See http://trac.sagemath.org/18292 for details.\n"
     ]
    },
    {
     "data": {
      "text/html": [
       "<html><script type=\"math/tex; mode=display\">\\newcommand{\\Bold}[1]{\\mathbf{#1}}x \\ {\\mapsto}\\ -6 \\, x + e^{x} - 3</script></html>"
      ],
      "text/plain": [
       "x |--> -6*x + e^x - 3"
      ]
     },
     "metadata": {},
     "output_type": "display_data"
    },
    {
     "data": {
      "text/html": [
       "Root bounds:"
      ],
      "text/plain": [
       "Root bounds:"
      ]
     },
     "metadata": {},
     "output_type": "display_data"
    },
    {
     "name": "stderr",
     "output_type": "stream",
     "text": [
      "/usr/lib/sagemath/local/lib/python2.7/site-packages/sage/repl/ipython_kernel/__main__.py:63: DeprecationWarning:  html(...) will change soon to return HTML instead of printing it. Instead use pretty_print(html(...)) for strings or just pretty_print(...) for math. \n",
      "See http://trac.sagemath.org/18292 for details.\n"
     ]
    },
    {
     "data": {
      "text/html": [
       "<html><script type=\"math/tex; mode=display\">\\newcommand{\\Bold}[1]{\\mathbf{#1}}\\left(\\left(-4, 4\\right)\\right)</script></html>"
      ],
      "text/plain": [
       "((-4, 4),)"
      ]
     },
     "metadata": {},
     "output_type": "display_data"
    },
    {
     "data": {
      "text/html": [
       "Graph of the function at the interval given by the root bounds:"
      ],
      "text/plain": [
       "Graph of the function at the interval given by the root bounds:"
      ]
     },
     "metadata": {},
     "output_type": "display_data"
    },
    {
     "name": "stderr",
     "output_type": "stream",
     "text": [
      "/usr/lib/sagemath/local/lib/python2.7/site-packages/sage/repl/ipython_kernel/__main__.py:65: DeprecationWarning:  html(...) will change soon to return HTML instead of printing it. Instead use pretty_print(html(...)) for strings or just pretty_print(...) for math. \n",
      "See http://trac.sagemath.org/18292 for details.\n"
     ]
    },
    {
     "data": {
      "image/png": "[encoded data removed]",
      "text/plain": [
       "Graphics object consisting of 1 graphics primitive"
      ]
     },
     "metadata": {},
     "output_type": "display_data"
    },
    {
     "data": {
      "text/html": [
       "Running Newton's algorithm on"
      ],
      "text/plain": [
       "Running Newton's algorithm on"
      ]
     },
     "metadata": {},
     "output_type": "display_data"
    },
    {
     "name": "stderr",
     "output_type": "stream",
     "text": [
      "/usr/lib/sagemath/local/lib/python2.7/site-packages/sage/repl/ipython_kernel/__main__.py:71: DeprecationWarning:  html(...) will change soon to return HTML instead of printing it. Instead use pretty_print(html(...)) for strings or just pretty_print(...) for math. \n",
      "See http://trac.sagemath.org/18292 for details.\n"
     ]
    },
    {
     "data": {
      "text/html": [
       "<html><script type=\"math/tex; mode=display\">\\newcommand{\\Bold}[1]{\\mathbf{#1}}\\left(-0.399999999999998, -0.299999999999998\\right)</script></html>"
      ],
      "text/plain": [
       "(-0.399999999999998, -0.299999999999998)"
      ]
     },
     "metadata": {},
     "output_type": "display_data"
    },
    {
     "data": {
      "text/html": [
       "0\t-0.349999999999998\t-0.195311910281299"
      ],
      "text/plain": [
       "0\t-0.349999999999998\t-0.195311910281299"
      ]
     },
     "metadata": {},
     "output_type": "display_data"
    },
    {
     "name": "stderr",
     "output_type": "stream",
     "text": [
      "/usr/lib/sagemath/local/lib/python2.7/site-packages/sage/repl/ipython_kernel/__main__.py:45: DeprecationWarning:  html(...) will change soon to return HTML instead of printing it. Instead use pretty_print(html(...)) for strings or just pretty_print(...) for math. \n",
      "See http://trac.sagemath.org/18292 for details.\n"
     ]
    },
    {
     "data": {
      "text/html": [
       "1\t-0.386883929330409\t0.000473498041861697"
      ],
      "text/plain": [
       "1\t-0.386883929330409\t0.000473498041861697"
      ]
     },
     "metadata": {},
     "output_type": "display_data"
    },
    {
     "data": {
      "text/html": [
       "2\t-0.386794939824086\t2.68929811753083e-9"
      ],
      "text/plain": [
       "2\t-0.386794939824086\t2.68929811753083e-9"
      ]
     },
     "metadata": {},
     "output_type": "display_data"
    },
    {
     "data": {
      "text/html": [],
      "text/plain": []
     },
     "metadata": {},
     "output_type": "display_data"
    },
    {
     "name": "stderr",
     "output_type": "stream",
     "text": [
      "/usr/lib/sagemath/local/lib/python2.7/site-packages/sage/repl/ipython_kernel/__main__.py:75: DeprecationWarning:  html(...) will change soon to return HTML instead of printing it. Instead use pretty_print(html(...)) for strings or just pretty_print(...) for math. \n",
      "See http://trac.sagemath.org/18292 for details.\n"
     ]
    },
    {
     "data": {
      "text/html": [
       "Running Newton's algorithm on"
      ],
      "text/plain": [
       "Running Newton's algorithm on"
      ]
     },
     "metadata": {},
     "output_type": "display_data"
    },
    {
     "data": {
      "text/html": [
       "<html><script type=\"math/tex; mode=display\">\\newcommand{\\Bold}[1]{\\mathbf{#1}}\\left(3.00000000000000, 3.10000000000000\\right)</script></html>"
      ],
      "text/plain": [
       "(3.00000000000000, 3.10000000000000)"
      ]
     },
     "metadata": {},
     "output_type": "display_data"
    },
    {
     "data": {
      "text/html": [
       "0\t3.05000000000000\t-0.184655577459324"
      ],
      "text/plain": [
       "0\t3.05000000000000\t-0.184655577459324"
      ]
     },
     "metadata": {},
     "output_type": "display_data"
    },
    {
     "data": {
      "text/html": [
       "1\t3.06221643201091\t0.00158207566291679"
      ],
      "text/plain": [
       "1\t3.06221643201091\t0.00158207566291679"
      ]
     },
     "metadata": {},
     "output_type": "display_data"
    },
    {
     "data": {
      "text/html": [
       "2\t3.06211353198214\t1.13159181580613e-7"
      ],
      "text/plain": [
       "2\t3.06211353198214\t1.13159181580613e-7"
      ]
     },
     "metadata": {},
     "output_type": "display_data"
    },
    {
     "data": {
      "text/html": [],
      "text/plain": []
     },
     "metadata": {},
     "output_type": "display_data"
    },
    {
     "data": {
      "text/html": [
       "Roots found:"
      ],
      "text/plain": [
       "Roots found:"
      ]
     },
     "metadata": {},
     "output_type": "display_data"
    },
    {
     "name": "stderr",
     "output_type": "stream",
     "text": [
      "/usr/lib/sagemath/local/lib/python2.7/site-packages/sage/repl/ipython_kernel/__main__.py:78: DeprecationWarning:  html(...) will change soon to return HTML instead of printing it. Instead use pretty_print(html(...)) for strings or just pretty_print(...) for math. \n",
      "See http://trac.sagemath.org/18292 for details.\n"
     ]
    },
    {
     "data": {
      "text/html": [
       "<html><script type=\"math/tex; mode=display\">\\newcommand{\\Bold}[1]{\\mathbf{#1}}\\left[-0.386794939318652, 3.06211352462109\\right]</script></html>"
      ],
      "text/plain": [
       "[-0.386794939318652, 3.06211352462109]"
      ]
     },
     "metadata": {},
     "output_type": "display_data"
    },
    {
     "data": {
      "text/html": [
       "Roots calculated by Sage:"
      ],
      "text/plain": [
       "Roots calculated by Sage:"
      ]
     },
     "metadata": {},
     "output_type": "display_data"
    },
    {
     "name": "stderr",
     "output_type": "stream",
     "text": [
      "/usr/lib/sagemath/local/lib/python2.7/site-packages/sage/repl/ipython_kernel/__main__.py:80: DeprecationWarning:  html(...) will change soon to return HTML instead of printing it. Instead use pretty_print(html(...)) for strings or just pretty_print(...) for math. \n",
      "See http://trac.sagemath.org/18292 for details.\n"
     ]
    },
    {
     "data": {
      "text/html": [
       "<html><script type=\"math/tex; mode=display\">\\newcommand{\\Bold}[1]{\\mathbf{#1}}\\verb|None|</script></html>"
      ],
      "text/plain": [
       "'None'"
      ]
     },
     "metadata": {},
     "output_type": "display_data"
    },
    {
     "data": {
      "text/plain": [
       "[-0.386794939318652, 3.06211352462109]"
      ]
     },
     "execution_count": 7,
     "metadata": {},
     "output_type": "execute_result"
    }
   ],
   "source": [
    "P(x) = exp(x) - 6*x - 3\n",
    "plot(P, -4, 4, figsize=6).show()\n",
    "Q(x) = taylor(exp(x), x, 0, 4) - 6*x - 3\n",
    "(plot(P, -4, 4, figsize=6, legend_label='$ e^x - 6x - 3 $') +\n",
    " plot(Q, -4, 4, figsize=6, color='red', legend_label='$%s$' % latex(Q))).show()\n",
    "find_roots(P, bounds=((-4, 4),), verbose=True)"
   ]
  },
  {
   "cell_type": "code",
   "execution_count": 26,
   "metadata": {
    "collapsed": false
   },
   "outputs": [
    {
     "data": {
      "text/plain": []
     },
     "execution_count": 26,
     "metadata": {},
     "output_type": "execute_result"
    }
   ],
   "source": []
  }
 ],
 "metadata": {
  "kernelspec": {
   "display_name": "SageMath 7.0",
   "language": "",
   "name": "sagemath"
  },
  "language": "python",
  "language_info": {
   "codemirror_mode": {
    "name": "ipython",
    "version": 2
   },
   "file_extension": ".py",
   "mimetype": "text/x-python",
   "name": "python",
   "nbconvert_exporter": "python",
   "pygments_lexer": "ipython2",
   "version": "2.7.10"
  }
 },
 "nbformat": 4,
 "nbformat_minor": 0
}
