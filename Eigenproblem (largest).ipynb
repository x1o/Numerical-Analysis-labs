{
 "cells": [
  {
   "cell_type": "markdown",
   "metadata": {},
   "source": [
    "Assuming $\\max \\{\\lambda_i\\} \\in \\mathbb{R}$"
   ]
  },
  {
   "cell_type": "code",
   "execution_count": 31,
   "metadata": {
    "collapsed": true
   },
   "outputs": [],
   "source": [
    "A = matrix(RDF, [[1.8, 1.2, -0.9],\n",
    "                 [1.2, 1.3, 0.8],\n",
    "                 [-0.9, 0.8, 0.8]])\n",
    "# A = matrix(RDF, [[2, 0, 1],\n",
    "#                  [0, 2, 0],\n",
    "#                  [1, 0, 2]])\n",
    "A = matrix(RDF, [[0.92, 2.45, 0.38],\n",
    "                 [2.45, 1.11, 0.56],\n",
    "                 [0.38, 0.56, 0.32]])"
   ]
  },
  {
   "cell_type": "code",
   "execution_count": 32,
   "metadata": {
    "collapsed": false
   },
   "outputs": [],
   "source": [
    "def find_largest_eigenvalue(A, y0=False, eps=10^(-6), max_iter=100, verbose=False):\n",
    "    def worker(A, y, k, verbose):\n",
    "        y /= max(y, key=abs)\n",
    "        y_next = A * y\n",
    "        quot = vector(RDF, [y_next[i] / y[i] if y[i] != 0 else oo for i in range(len(y))])\n",
    "        if verbose:\n",
    "#             show('\\mathbf{y}_{%s}=' % k  + latex(y))\n",
    "#             show('\\mathbf{y}_{%s}=' % (k+1) + latex(y_next))\n",
    "            show('\\mathbf{y}_{%s} / \\mathbf{y}_{%s}=' % (k, k+1) + latex(quot))\n",
    "        return (y_next, quot)\n",
    "    if not y0:\n",
    "        y0 = zero_vector(A.nrows())\n",
    "        y0[0] = 1\n",
    "    y = y0\n",
    "    quot = zero_vector(A.nrows())\n",
    "    for k in range(max_iter):\n",
    "        y, quot_next = worker(A, y, k, verbose)\n",
    "        if abs(max(quot - quot_next, key=abs)) < eps:\n",
    "#             return (mean(quot_next), k)\n",
    "            return (max(quot_next), k)\n",
    "        quot = quot_next\n",
    "    return False"
   ]
  },
  {
   "cell_type": "code",
   "execution_count": 33,
   "metadata": {
    "collapsed": false
   },
   "outputs": [
    {
     "data": {
      "text/html": [
       "<html><script type=\"math/tex; mode=display\">\\newcommand{\\Bold}[1]{\\mathbf{#1}}\\mathbf{y}_{0} / \\mathbf{y}_{1}= \\left(3.75,\\,4.12,\\,1.26\\right)</script></html>"
      ],
      "text/plain": [
       "\\mathbf{y}_{0} / \\mathbf{y}_{1}= \\left(3.75,\\,4.12,\\,1.26\\right)"
      ]
     },
     "metadata": {},
     "output_type": "display_data"
    },
    {
     "data": {
      "text/html": [
       "<html><script type=\"math/tex; mode=display\">\\newcommand{\\Bold}[1]{\\mathbf{#1}}\\mathbf{y}_{1} / \\mathbf{y}_{2}= \\left(3.73941333333,\\,3.51123786408,\\,3.28206349206\\right)</script></html>"
      ],
      "text/plain": [
       "\\mathbf{y}_{1} / \\mathbf{y}_{2}= \\left(3.73941333333,\\,3.51123786408,\\,3.28206349206\\right)"
      ]
     },
     "metadata": {},
     "output_type": "display_data"
    },
    {
     "data": {
      "text/html": [
       "<html><script type=\"math/tex; mode=display\">\\newcommand{\\Bold}[1]{\\mathbf{#1}}\\mathbf{y}_{2} / \\mathbf{y}_{3}= \\left(3.5595503751,\\,3.64497328273,\\,3.56751946607\\right)</script></html>"
      ],
      "text/plain": [
       "\\mathbf{y}_{2} / \\mathbf{y}_{3}= \\left(3.5595503751,\\,3.64497328273,\\,3.56751946607\\right)"
      ]
     },
     "metadata": {},
     "output_type": "display_data"
    },
    {
     "data": {
      "text/html": [
       "<html><script type=\"math/tex; mode=display\">\\newcommand{\\Bold}[1]{\\mathbf{#1}}\\mathbf{y}_{3} / \\mathbf{y}_{4}= \\left(3.62045646023,\\,3.58591412167,\\,3.60717200565\\right)</script></html>"
      ],
      "text/plain": [
       "\\mathbf{y}_{3} / \\mathbf{y}_{4}= \\left(3.62045646023,\\,3.58591412167,\\,3.60717200565\\right)"
      ]
     },
     "metadata": {},
     "output_type": "display_data"
    },
    {
     "data": {
      "text/html": [
       "<html><script type=\"math/tex; mode=display\">\\newcommand{\\Bold}[1]{\\mathbf{#1}}\\mathbf{y}_{4} / \\mathbf{y}_{5}= \\left(3.59535119961,\\,3.60918362044,\\,3.60011155416\\right)</script></html>"
      ],
      "text/plain": [
       "\\mathbf{y}_{4} / \\mathbf{y}_{5}= \\left(3.59535119961,\\,3.60918362044,\\,3.60011155416\\right)"
      ]
     },
     "metadata": {},
     "output_type": "display_data"
    },
    {
     "data": {
      "text/html": [
       "<html><script type=\"math/tex; mode=display\">\\newcommand{\\Bold}[1]{\\mathbf{#1}}\\mathbf{y}_{5} / \\mathbf{y}_{6}= \\left(3.6053617359,\\,3.59981322592,\\,3.60341921904\\right)</script></html>"
      ],
      "text/plain": [
       "\\mathbf{y}_{5} / \\mathbf{y}_{6}= \\left(3.6053617359,\\,3.59981322592,\\,3.60341921904\\right)"
      ]
     },
     "metadata": {},
     "output_type": "display_data"
    },
    {
     "data": {
      "text/html": [
       "<html><script type=\"math/tex; mode=display\">\\newcommand{\\Bold}[1]{\\mathbf{#1}}\\mathbf{y}_{6} / \\mathbf{y}_{7}= \\left(3.60134114038,\\,3.60356602082,\\,3.6021177805\\right)</script></html>"
      ],
      "text/plain": [
       "\\mathbf{y}_{6} / \\mathbf{y}_{7}= \\left(3.60134114038,\\,3.60356602082,\\,3.6021177805\\right)"
      ]
     },
     "metadata": {},
     "output_type": "display_data"
    },
    {
     "data": {
      "text/html": [
       "<html><script type=\"math/tex; mode=display\">\\newcommand{\\Bold}[1]{\\mathbf{#1}}\\mathbf{y}_{7} / \\mathbf{y}_{8}= \\left(3.60295261618,\\,3.60206038323,\\,3.6026409585\\right)</script></html>"
      ],
      "text/plain": [
       "\\mathbf{y}_{7} / \\mathbf{y}_{8}= \\left(3.60295261618,\\,3.60206038323,\\,3.6026409585\\right)"
      ]
     },
     "metadata": {},
     "output_type": "display_data"
    },
    {
     "data": {
      "text/html": [
       "<html><script type=\"math/tex; mode=display\">\\newcommand{\\Bold}[1]{\\mathbf{#1}}\\mathbf{y}_{8} / \\mathbf{y}_{9}= \\left(3.60230626138,\\,3.60266405766,\\,3.60243121548\\right)</script></html>"
      ],
      "text/plain": [
       "\\mathbf{y}_{8} / \\mathbf{y}_{9}= \\left(3.60230626138,\\,3.60266405766,\\,3.60243121548\\right)"
      ]
     },
     "metadata": {},
     "output_type": "display_data"
    },
    {
     "data": {
      "text/html": [
       "<html><script type=\"math/tex; mode=display\">\\newcommand{\\Bold}[1]{\\mathbf{#1}}\\mathbf{y}_{9} / \\mathbf{y}_{10}= \\left(3.6025654397,\\,3.60242195728,\\,3.60251532751\\right)</script></html>"
      ],
      "text/plain": [
       "\\mathbf{y}_{9} / \\mathbf{y}_{10}= \\left(3.6025654397,\\,3.60242195728,\\,3.60251532751\\right)"
      ]
     },
     "metadata": {},
     "output_type": "display_data"
    },
    {
     "data": {
      "text/html": [
       "<html><script type=\"math/tex; mode=display\">\\newcommand{\\Bold}[1]{\\mathbf{#1}}\\mathbf{y}_{10} / \\mathbf{y}_{11}= \\left(3.60246150192,\\,3.60251904054,\\,3.60248159713\\right)</script></html>"
      ],
      "text/plain": [
       "\\mathbf{y}_{10} / \\mathbf{y}_{11}= \\left(3.60246150192,\\,3.60251904054,\\,3.60248159713\\right)"
      ]
     },
     "metadata": {},
     "output_type": "display_data"
    },
    {
     "data": {
      "text/html": [
       "<html><script type=\"math/tex; mode=display\">\\newcommand{\\Bold}[1]{\\mathbf{#1}}\\mathbf{y}_{11} / \\mathbf{y}_{12}= \\left(3.60250318209,\\,3.60248010818,\\,3.6024951235\\right)</script></html>"
      ],
      "text/plain": [
       "\\mathbf{y}_{11} / \\mathbf{y}_{12}= \\left(3.60250318209,\\,3.60248010818,\\,3.6024951235\\right)"
      ]
     },
     "metadata": {},
     "output_type": "display_data"
    },
    {
     "data": {
      "text/html": [
       "<html><script type=\"math/tex; mode=display\">\\newcommand{\\Bold}[1]{\\mathbf{#1}}\\mathbf{y}_{12} / \\mathbf{y}_{13}= \\left(3.6024864676,\\,3.6024957206,\\,3.60248969921\\right)</script></html>"
      ],
      "text/plain": [
       "\\mathbf{y}_{12} / \\mathbf{y}_{13}= \\left(3.6024864676,\\,3.6024957206,\\,3.60248969921\\right)"
      ]
     },
     "metadata": {},
     "output_type": "display_data"
    },
    {
     "data": {
      "text/html": [
       "<html><script type=\"math/tex; mode=display\">\\newcommand{\\Bold}[1]{\\mathbf{#1}}\\mathbf{y}_{13} / \\mathbf{y}_{14}= \\left(3.60249317036,\\,3.60248945976,\\,3.60249187443\\right)</script></html>"
      ],
      "text/plain": [
       "\\mathbf{y}_{13} / \\mathbf{y}_{14}= \\left(3.60249317036,\\,3.60248945976,\\,3.60249187443\\right)"
      ]
     },
     "metadata": {},
     "output_type": "display_data"
    },
    {
     "data": {
      "text/html": [
       "<html><script type=\"math/tex; mode=display\">\\newcommand{\\Bold}[1]{\\mathbf{#1}}\\mathbf{y}_{14} / \\mathbf{y}_{15}= \\left(3.60249048245,\\,3.60249197045,\\,3.60249100213\\right)</script></html>"
      ],
      "text/plain": [
       "\\mathbf{y}_{14} / \\mathbf{y}_{15}= \\left(3.60249048245,\\,3.60249197045,\\,3.60249100213\\right)"
      ]
     },
     "metadata": {},
     "output_type": "display_data"
    },
    {
     "data": {
      "text/html": [
       "<html><script type=\"math/tex; mode=display\">\\newcommand{\\Bold}[1]{\\mathbf{#1}}\\mathbf{y}_{15} / \\mathbf{y}_{16}= \\left(3.60249156034,\\,3.60249096363,\\,3.60249135194\\right)</script></html>"
      ],
      "text/plain": [
       "\\mathbf{y}_{15} / \\mathbf{y}_{16}= \\left(3.60249156034,\\,3.60249096363,\\,3.60249135194\\right)"
      ]
     },
     "metadata": {},
     "output_type": "display_data"
    },
    {
     "data": {
      "text/html": [
       "<html><script type=\"math/tex; mode=display\">\\newcommand{\\Bold}[1]{\\mathbf{#1}}\\mathbf{y}_{16} / \\mathbf{y}_{17}= \\left(3.60249112809,\\,3.60249136738,\\,3.60249121166\\right)</script></html>"
      ],
      "text/plain": [
       "\\mathbf{y}_{16} / \\mathbf{y}_{17}= \\left(3.60249112809,\\,3.60249136738,\\,3.60249121166\\right)"
      ]
     },
     "metadata": {},
     "output_type": "display_data"
    },
    {
     "data": {
      "text/plain": [
       "(3.6024913673800687, 16)"
      ]
     },
     "execution_count": 33,
     "metadata": {},
     "output_type": "execute_result"
    }
   ],
   "source": [
    "find_largest_eigenvalue(A, vector([1,1,1]), verbose=True)"
   ]
  },
  {
   "cell_type": "code",
   "execution_count": 34,
   "metadata": {
    "collapsed": false
   },
   "outputs": [
    {
     "data": {
      "text/plain": [
       "3.6024912518128787"
      ]
     },
     "execution_count": 34,
     "metadata": {},
     "output_type": "execute_result"
    }
   ],
   "source": [
    "max(A.eigenvalues(), key=abs)"
   ]
  },
  {
   "cell_type": "code",
   "execution_count": null,
   "metadata": {
    "collapsed": true
   },
   "outputs": [],
   "source": []
  }
 ],
 "metadata": {
  "kernelspec": {
   "display_name": "SageMath 7.2",
   "language": "",
   "name": "sagemath"
  },
  "language_info": {
   "codemirror_mode": {
    "name": "ipython",
    "version": 2
   },
   "file_extension": ".py",
   "mimetype": "text/x-python",
   "name": "python",
   "nbconvert_exporter": "python",
   "pygments_lexer": "ipython2",
   "version": "2.7.10"
  }
 },
 "nbformat": 4,
 "nbformat_minor": 0
}
